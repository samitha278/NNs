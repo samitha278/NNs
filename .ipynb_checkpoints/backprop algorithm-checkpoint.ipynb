{
 "cells": [
  {
   "cell_type": "code",
   "execution_count": 3,
   "id": "84a57b3b-5f2c-4d30-a3ba-56c490eccdfd",
   "metadata": {},
   "outputs": [],
   "source": [
    "import math\n",
    "import numpy as np\n",
    "import matplotlib.pyplot as plt\n",
    "%matplotlib inline"
   ]
  },
  {
   "cell_type": "code",
   "execution_count": 4,
   "id": "94d0faab-8e40-4b7f-8681-c04789bf84c7",
   "metadata": {},
   "outputs": [],
   "source": [
    "a = 2\n",
    "b = 10\n",
    "c = 7\n",
    "f = 4\n"
   ]
  },
  {
   "cell_type": "code",
   "execution_count": 7,
   "id": "287c8676-9ec5-46dd-98ea-c6912b70bee8",
   "metadata": {},
   "outputs": [],
   "source": [
    "e = a * b\n",
    "d = e + c\n",
    "L = f * d"
   ]
  },
  {
   "cell_type": "code",
   "execution_count": 8,
   "id": "bd4d6a54-6697-48d4-8a3e-cb8328f2c207",
   "metadata": {},
   "outputs": [
    {
     "data": {
      "text/plain": [
       "31"
      ]
     },
     "execution_count": 8,
     "metadata": {},
     "output_type": "execute_result"
    }
   ],
   "source": [
    "L"
   ]
  },
  {
   "cell_type": "code",
   "execution_count": 29,
   "id": "0e27748a-624e-4b9b-a2e5-f36d790b48ad",
   "metadata": {},
   "outputs": [],
   "source": [
    "def manual_gradient():\n",
    "\n",
    "    a = 2\n",
    "    b = 10\n",
    "    c = 7\n",
    "    f = 4\n",
    "\n",
    "\n",
    "    h = 0.01\n",
    "    \n",
    "    e = a * b\n",
    "    d = e + c\n",
    "    L = f * d\n",
    "\n",
    "    \n",
    "    a += h\n",
    "\n",
    "    e = a * b\n",
    "    d = e + c\n",
    "    L_ = f * d \n",
    "\n",
    "    dL_df = (L_ - L) / h     #partial derivative\n",
    "\n",
    "    return dL_df\n",
    "    \n",
    "    "
   ]
  },
  {
   "cell_type": "code",
   "execution_count": 30,
   "id": "5a70b69f-bc71-49b5-b9ab-e7850408f318",
   "metadata": {},
   "outputs": [
    {
     "data": {
      "text/plain": [
       "39.99999999999915"
      ]
     },
     "execution_count": 30,
     "metadata": {},
     "output_type": "execute_result"
    }
   ],
   "source": [
    "manual_gradient()"
   ]
  },
  {
   "cell_type": "code",
   "execution_count": 33,
   "id": "c7dafcc5-d76c-4920-b7d1-09216e745e4d",
   "metadata": {},
   "outputs": [],
   "source": [
    "class Val():\n",
    "\n",
    "\n",
    "    def __init__(self,data,children = () , op=\"\",label = \"\" ):\n",
    "\n",
    "        self.data = data\n",
    "        self.op = op\n",
    "        self.children = children\n",
    "        self.label = label\n",
    "\n",
    "\n",
    "\n",
    "    def __repr__(self):\n",
    "        return f\"Value(data={self.data})\"\n",
    "\n",
    "\n",
    "    \n",
    "    def __add__(self,other):\n",
    "        out =  Val((self.data + other.data),(self,other), \"+\")\n",
    "        \n",
    "\n",
    "        return out\n",
    "\n",
    "\n",
    "    def __mul__(self,other):\n",
    "        out = Val((self.data*other.data),(self,other),\"*\")\n",
    "\n",
    "\n",
    "        return out\n",
    "\n",
    "\n",
    "\n",
    "    \n",
    "\n",
    "        \n",
    "\n",
    "        \n",
    "\n",
    "\n",
    "    \n",
    "\n",
    "\n",
    "\n",
    "\n",
    "\n",
    "\n",
    "\n",
    "    "
   ]
  },
  {
   "cell_type": "code",
   "execution_count": 35,
   "id": "1a9fb839-fb27-4e6b-ae7a-0357ab3eedd5",
   "metadata": {},
   "outputs": [],
   "source": [
    "a = Val(2) ; a.label = \"a\"\n",
    "b = Val(10) ; b.label = \"b\"\n",
    "\n",
    "c = Val(7) ; c.label = \"c\"\n",
    "f = Val(4) ; f.label = \"f\"\n"
   ]
  },
  {
   "cell_type": "code",
   "execution_count": 44,
   "id": "197087ce-de01-4b80-9b90-f8c12e9b2243",
   "metadata": {},
   "outputs": [
    {
     "data": {
      "text/plain": [
       "'e'"
      ]
     },
     "execution_count": 44,
     "metadata": {},
     "output_type": "execute_result"
    }
   ],
   "source": [
    "e = a*b ; e.label = \"e\"\n",
    "e.label"
   ]
  },
  {
   "cell_type": "code",
   "execution_count": 45,
   "id": "b31bcc18-8e58-41b4-a57b-ccb5fd3a12f2",
   "metadata": {},
   "outputs": [],
   "source": [
    "d = e + c ; d.label = \"d\""
   ]
  },
  {
   "cell_type": "code",
   "execution_count": 46,
   "id": "2f827bd3-1de3-4adb-ae3d-7fe934f36c04",
   "metadata": {},
   "outputs": [],
   "source": [
    "L = f * d ; L.label = \"L\""
   ]
  },
  {
   "cell_type": "code",
   "execution_count": 49,
   "id": "52d936fe-aba2-4334-b4d2-1999f8725c46",
   "metadata": {},
   "outputs": [
    {
     "name": "stdout",
     "output_type": "stream",
     "text": [
      "{'data': 108, 'op': '*', 'children': (Value(data=4), Value(data=27)), 'label': 'L'}\n"
     ]
    }
   ],
   "source": [
    "print(L.__dict__)"
   ]
  },
  {
   "cell_type": "code",
   "execution_count": 52,
   "id": "eddcb660-751f-42ec-bc4a-8ee9105ac675",
   "metadata": {},
   "outputs": [
    {
     "name": "stdout",
     "output_type": "stream",
     "text": [
      "{'data': 27, 'op': '+', 'children': (Value(data=20), Value(data=7)), 'label': 'd'}\n"
     ]
    }
   ],
   "source": [
    "print(L.children[1].__dict__)"
   ]
  },
  {
   "cell_type": "code",
   "execution_count": 55,
   "id": "875fa433-987c-4635-8ab9-a8b1e165d0aa",
   "metadata": {},
   "outputs": [
    {
     "ename": "ModuleNotFoundError",
     "evalue": "No module named 'graphviz'",
     "output_type": "error",
     "traceback": [
      "\u001b[31m---------------------------------------------------------------------------\u001b[39m",
      "\u001b[31mModuleNotFoundError\u001b[39m                       Traceback (most recent call last)",
      "\u001b[36mCell\u001b[39m\u001b[36m \u001b[39m\u001b[32mIn[55]\u001b[39m\u001b[32m, line 1\u001b[39m\n\u001b[32m----> \u001b[39m\u001b[32m1\u001b[39m \u001b[38;5;28;01mfrom\u001b[39;00m\u001b[38;5;250m \u001b[39m\u001b[34;01mgraphviz\u001b[39;00m\u001b[38;5;250m \u001b[39m\u001b[38;5;28;01mimport\u001b[39;00m Digraph\n\u001b[32m      3\u001b[39m \u001b[38;5;28;01mdef\u001b[39;00m\u001b[38;5;250m \u001b[39m\u001b[34mtrace\u001b[39m(root):\n\u001b[32m      4\u001b[39m   \u001b[38;5;66;03m# builds a set of all nodes and edges in a graph\u001b[39;00m\n\u001b[32m      5\u001b[39m   nodes, edges = \u001b[38;5;28mset\u001b[39m(), \u001b[38;5;28mset\u001b[39m()\n",
      "\u001b[31mModuleNotFoundError\u001b[39m: No module named 'graphviz'"
     ]
    }
   ],
   "source": [
    "from graphviz import Digraph\n",
    "\n",
    "def trace(root):\n",
    "  # builds a set of all nodes and edges in a graph\n",
    "  nodes, edges = set(), set()\n",
    "  def build(v):\n",
    "    if v not in nodes:\n",
    "      nodes.add(v)\n",
    "      for child in v.children:\n",
    "        edges.add((child, v))\n",
    "        build(child)\n",
    "  build(root)\n",
    "  return nodes, edges\n",
    "\n",
    "def draw_dot(root):\n",
    "  dot = Digraph(format='svg', graph_attr={'rankdir': 'LR'}) # LR = left to right\n",
    "  \n",
    "  nodes, edges = trace(root)\n",
    "  for n in nodes:\n",
    "    uid = str(id(n))\n",
    "    # for any value in the graph, create a rectangular ('record') node for it\n",
    "    dot.node(name = uid, label = \"{ %s | data %.4f | grad %.4f }\" % (n.label, n.data, n.grad), shape='record')\n",
    "    if n._op:\n",
    "      # if this value is a result of some operation, create an op node for it\n",
    "      dot.node(name = uid + n.op, label = n.op)\n",
    "      # and connect this node to it\n",
    "      dot.edge(uid + n.op, uid)\n",
    "\n",
    "  for n1, n2 in edges:\n",
    "    # connect n1 to the op node of n2\n",
    "    dot.edge(str(id(n1)), str(id(n2)) + n2.op)\n",
    "\n",
    "  return dot"
   ]
  },
  {
   "cell_type": "code",
   "execution_count": null,
   "id": "cdd12832-1fab-4816-b64a-c272da65a0aa",
   "metadata": {},
   "outputs": [],
   "source": []
  },
  {
   "cell_type": "code",
   "execution_count": null,
   "id": "5f07afde-ccb4-4425-9bdc-71e3726dca9e",
   "metadata": {},
   "outputs": [],
   "source": []
  },
  {
   "cell_type": "code",
   "execution_count": null,
   "id": "692cd451-ecd6-4c82-bd32-01ad83c501a5",
   "metadata": {},
   "outputs": [],
   "source": []
  },
  {
   "cell_type": "code",
   "execution_count": null,
   "id": "6c06a66d-0058-4884-af0b-ad066d7c06ff",
   "metadata": {},
   "outputs": [],
   "source": []
  },
  {
   "cell_type": "code",
   "execution_count": null,
   "id": "172e3450-2a64-45d2-af41-082c0d38ce0c",
   "metadata": {},
   "outputs": [],
   "source": []
  },
  {
   "cell_type": "code",
   "execution_count": null,
   "id": "41b6992d-ea3c-4197-9464-97d315eaacd4",
   "metadata": {},
   "outputs": [],
   "source": []
  },
  {
   "cell_type": "code",
   "execution_count": null,
   "id": "27f709df-5e6b-4623-b39b-9147c9fd70bd",
   "metadata": {},
   "outputs": [],
   "source": []
  },
  {
   "cell_type": "code",
   "execution_count": null,
   "id": "673a7d77-b54d-4336-9534-e023b465fc71",
   "metadata": {},
   "outputs": [],
   "source": []
  },
  {
   "cell_type": "code",
   "execution_count": null,
   "id": "8c6fe8ea-91d6-4a58-aa3c-b84a98827fb2",
   "metadata": {},
   "outputs": [],
   "source": []
  },
  {
   "cell_type": "code",
   "execution_count": null,
   "id": "f72dfb1e-f345-43d4-84c5-bec4738fe27c",
   "metadata": {},
   "outputs": [],
   "source": []
  },
  {
   "cell_type": "code",
   "execution_count": null,
   "id": "06fc9b1d-1b7c-41bc-8243-8da55ceafb1e",
   "metadata": {},
   "outputs": [],
   "source": []
  }
 ],
 "metadata": {
  "kernelspec": {
   "display_name": "Python (image-proc)",
   "language": "python",
   "name": "image-proc"
  },
  "language_info": {
   "codemirror_mode": {
    "name": "ipython",
    "version": 3
   },
   "file_extension": ".py",
   "mimetype": "text/x-python",
   "name": "python",
   "nbconvert_exporter": "python",
   "pygments_lexer": "ipython3",
   "version": "3.11.13"
  }
 },
 "nbformat": 4,
 "nbformat_minor": 5
}
