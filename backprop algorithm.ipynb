{
 "cells": [
  {
   "cell_type": "code",
   "execution_count": 166,
   "id": "84a57b3b-5f2c-4d30-a3ba-56c490eccdfd",
   "metadata": {},
   "outputs": [],
   "source": [
    "import math\n",
    "import numpy as np\n",
    "import matplotlib.pyplot as plt\n",
    "%matplotlib inline\n",
    "\n",
    "\n",
    "import os\n",
    "os.environ[\"PATH\"] += os.pathsep + r\"C:\\Program Files\\Graphviz\\bin\"\n"
   ]
  },
  {
   "cell_type": "code",
   "execution_count": 167,
   "id": "94d0faab-8e40-4b7f-8681-c04789bf84c7",
   "metadata": {},
   "outputs": [],
   "source": [
    "a = 2\n",
    "b = 10\n",
    "c = 7\n",
    "f = 4\n"
   ]
  },
  {
   "cell_type": "code",
   "execution_count": 168,
   "id": "287c8676-9ec5-46dd-98ea-c6912b70bee8",
   "metadata": {},
   "outputs": [],
   "source": [
    "e = a * b\n",
    "d = e + c\n",
    "L = f * d"
   ]
  },
  {
   "cell_type": "code",
   "execution_count": 169,
   "id": "bd4d6a54-6697-48d4-8a3e-cb8328f2c207",
   "metadata": {},
   "outputs": [
    {
     "data": {
      "text/plain": [
       "108"
      ]
     },
     "execution_count": 169,
     "metadata": {},
     "output_type": "execute_result"
    }
   ],
   "source": [
    "L"
   ]
  },
  {
   "cell_type": "code",
   "execution_count": 170,
   "id": "0e27748a-624e-4b9b-a2e5-f36d790b48ad",
   "metadata": {},
   "outputs": [],
   "source": [
    "def manual_gradient():\n",
    "\n",
    "    a = 2\n",
    "    b = 10\n",
    "    c = 7\n",
    "    f = 4\n",
    "\n",
    "\n",
    "    h = 0.01\n",
    "    \n",
    "    e = a * b\n",
    "    d = e + c\n",
    "    L = f * d\n",
    "\n",
    "    \n",
    "    a += h\n",
    "\n",
    "    e = a * b\n",
    "    d = e + c\n",
    "    L_ = f * d \n",
    "\n",
    "    dL_df = (L_ - L) / h     #partial derivative\n",
    "\n",
    "    return dL_df\n",
    "    \n",
    "    "
   ]
  },
  {
   "cell_type": "code",
   "execution_count": 171,
   "id": "5a70b69f-bc71-49b5-b9ab-e7850408f318",
   "metadata": {},
   "outputs": [
    {
     "data": {
      "text/plain": [
       "39.99999999999915"
      ]
     },
     "execution_count": 171,
     "metadata": {},
     "output_type": "execute_result"
    }
   ],
   "source": [
    "manual_gradient()"
   ]
  },
  {
   "cell_type": "markdown",
   "id": "4867f378-97be-4cf9-a12e-1416ee988bdd",
   "metadata": {},
   "source": [
    "## Value class"
   ]
  },
  {
   "cell_type": "code",
   "execution_count": 172,
   "id": "c7dafcc5-d76c-4920-b7d1-09216e745e4d",
   "metadata": {},
   "outputs": [],
   "source": [
    "class Val():\n",
    "\n",
    "\n",
    "    def __init__(self,data,children = () , op=\"\",label = \"\" ):\n",
    "\n",
    "        self.data = data\n",
    "        self.op = op\n",
    "        self.children = children\n",
    "        self.label = label\n",
    "        self.grad = 0\n",
    "\n",
    "\n",
    "\n",
    "    def __repr__(self):\n",
    "        return f\"Value(data={self.data})\"\n",
    "\n",
    "\n",
    "    \n",
    "    def __add__(self,other):\n",
    "        out =  Val((self.data + other.data),(self,other), \"+\")\n",
    "\n",
    "\n",
    "\n",
    "        def backward():\n",
    "            self.grad = 1* out.grad\n",
    "            other.grad = 1* out.grad\n",
    "            \n",
    "\n",
    "        return out\n",
    "\n",
    "\n",
    "    def __mul__(self,other):\n",
    "        out = Val((self.data*other.data),(self,other),\"*\")\n",
    "\n",
    "        def backward():\n",
    "            self.grad = other.grad * out.grad\n",
    "            other.grad = self.grad * out.grad\n",
    "\n",
    "\n",
    "        return out\n",
    "\n",
    "\n",
    "\n",
    "    \n",
    "\n",
    "        \n",
    "\n",
    "        \n",
    "\n",
    "\n",
    "    \n",
    "\n",
    "\n",
    "\n",
    "\n",
    "\n",
    "\n",
    "\n",
    "    "
   ]
  },
  {
   "cell_type": "code",
   "execution_count": 173,
   "id": "1a9fb839-fb27-4e6b-ae7a-0357ab3eedd5",
   "metadata": {},
   "outputs": [],
   "source": [
    "a = Val(2) ; a.label = \"a\"\n",
    "b = Val(10) ; b.label = \"b\"\n",
    "\n",
    "c = Val(7) ; c.label = \"c\"\n",
    "f = Val(4) ; f.label = \"f\"\n"
   ]
  },
  {
   "cell_type": "code",
   "execution_count": 174,
   "id": "197087ce-de01-4b80-9b90-f8c12e9b2243",
   "metadata": {},
   "outputs": [
    {
     "data": {
      "text/plain": [
       "'e'"
      ]
     },
     "execution_count": 174,
     "metadata": {},
     "output_type": "execute_result"
    }
   ],
   "source": [
    "e = a*b ; e.label = \"e\"\n",
    "e.label"
   ]
  },
  {
   "cell_type": "code",
   "execution_count": 175,
   "id": "b31bcc18-8e58-41b4-a57b-ccb5fd3a12f2",
   "metadata": {},
   "outputs": [],
   "source": [
    "d = e + c ; d.label = \"d\""
   ]
  },
  {
   "cell_type": "code",
   "execution_count": 176,
   "id": "2f827bd3-1de3-4adb-ae3d-7fe934f36c04",
   "metadata": {},
   "outputs": [],
   "source": [
    "L = f * d ; L.label = \"L\""
   ]
  },
  {
   "cell_type": "code",
   "execution_count": 177,
   "id": "88de04bf-ab78-4311-81ff-36a82981c4a7",
   "metadata": {},
   "outputs": [
    {
     "name": "stdout",
     "output_type": "stream",
     "text": [
      "{'data': 2, 'op': '', 'children': (), 'label': 'a', 'grad': 0}\n"
     ]
    }
   ],
   "source": [
    "print(a.__dict__)"
   ]
  },
  {
   "cell_type": "code",
   "execution_count": 178,
   "id": "52d936fe-aba2-4334-b4d2-1999f8725c46",
   "metadata": {},
   "outputs": [
    {
     "name": "stdout",
     "output_type": "stream",
     "text": [
      "{'data': 108, 'op': '*', 'children': (Value(data=4), Value(data=27)), 'label': 'L', 'grad': 0}\n"
     ]
    }
   ],
   "source": [
    "print(L.__dict__)"
   ]
  },
  {
   "cell_type": "code",
   "execution_count": 179,
   "id": "eddcb660-751f-42ec-bc4a-8ee9105ac675",
   "metadata": {},
   "outputs": [
    {
     "name": "stdout",
     "output_type": "stream",
     "text": [
      "{'data': 27, 'op': '+', 'children': (Value(data=20), Value(data=7)), 'label': 'd', 'grad': 0}\n"
     ]
    }
   ],
   "source": [
    "print(L.children[1].__dict__)"
   ]
  },
  {
   "cell_type": "code",
   "execution_count": 180,
   "id": "3f32e058-c1e8-4044-bf4d-7627368dc450",
   "metadata": {},
   "outputs": [
    {
     "name": "stdout",
     "output_type": "stream",
     "text": [
      "{'data': 20, 'op': '*', 'children': (Value(data=2), Value(data=10)), 'label': 'e', 'grad': 0}\n"
     ]
    }
   ],
   "source": [
    "print(e.__dict__)"
   ]
  },
  {
   "cell_type": "code",
   "execution_count": 181,
   "id": "875fa433-987c-4635-8ab9-a8b1e165d0aa",
   "metadata": {},
   "outputs": [],
   "source": [
    "from graphviz import Digraph\n",
    "\n",
    "def trace(root):\n",
    "  # builds a set of all nodes and edges in a graph\n",
    "  nodes, edges = set(), set()\n",
    "  def build(v):\n",
    "    if v not in nodes:\n",
    "      nodes.add(v)\n",
    "      for child in v.children:\n",
    "        edges.add((child, v))\n",
    "        build(child)\n",
    "  build(root)\n",
    "  return nodes, edges\n",
    "\n",
    "def draw_dot(root):\n",
    "  dot = Digraph(format='svg', graph_attr={'rankdir': 'LR'}) # LR = left to right\n",
    "  \n",
    "  nodes, edges = trace(root)\n",
    "  for n in nodes:\n",
    "    uid = str(id(n))\n",
    "    # for any value in the graph, create a rectangular ('record') node for it\n",
    "    dot.node(name = uid, label = \"{ %s | data %.4f | grad %.4f }\" % (n.label, n.data, n.grad), shape='record')\n",
    "    if n.op:\n",
    "      # if this value is a result of some operation, create an op node for it\n",
    "      dot.node(name = uid + n.op, label = n.op)\n",
    "      # and connect this node to it\n",
    "      dot.edge(uid + n.op, uid)\n",
    "\n",
    "  for n1, n2 in edges:\n",
    "    # connect n1 to the op node of n2\n",
    "    dot.edge(str(id(n1)), str(id(n2)) + n2.op)\n",
    "\n",
    "  return dot"
   ]
  },
  {
   "cell_type": "code",
   "execution_count": 182,
   "id": "5f07afde-ccb4-4425-9bdc-71e3726dca9e",
   "metadata": {},
   "outputs": [
    {
     "data": {
      "image/svg+xml": [
       "<?xml version=\"1.0\" encoding=\"UTF-8\" standalone=\"no\"?>\n",
       "<!DOCTYPE svg PUBLIC \"-//W3C//DTD SVG 1.1//EN\"\n",
       " \"http://www.w3.org/Graphics/SVG/1.1/DTD/svg11.dtd\">\n",
       "<!-- Generated by graphviz version 13.1.2 (20250808.2320)\n",
       " -->\n",
       "<!-- Pages: 1 -->\n",
       "<svg width=\"1156pt\" height=\"154pt\"\n",
       " viewBox=\"0.00 0.00 1156.00 154.00\" xmlns=\"http://www.w3.org/2000/svg\" xmlns:xlink=\"http://www.w3.org/1999/xlink\">\n",
       "<g id=\"graph0\" class=\"graph\" transform=\"scale(1 1) rotate(0) translate(4 150)\">\n",
       "<polygon fill=\"white\" stroke=\"none\" points=\"-4,4 -4,-150 1151.5,-150 1151.5,4 -4,4\"/>\n",
       "<!-- 1572368104976 -->\n",
       "<g id=\"node1\" class=\"node\">\n",
       "<title>1572368104976</title>\n",
       "<polygon fill=\"none\" stroke=\"black\" points=\"316.5,-27.5 316.5,-63.5 506.25,-63.5 506.25,-27.5 316.5,-27.5\"/>\n",
       "<text xml:space=\"preserve\" text-anchor=\"middle\" x=\"327.5\" y=\"-40.7\" font-family=\"Times New Roman,serif\" font-size=\"14.00\">e</text>\n",
       "<polyline fill=\"none\" stroke=\"black\" points=\"338.5,-28 338.5,-63.5\"/>\n",
       "<text xml:space=\"preserve\" text-anchor=\"middle\" x=\"381.75\" y=\"-40.7\" font-family=\"Times New Roman,serif\" font-size=\"14.00\">data 20.0000</text>\n",
       "<polyline fill=\"none\" stroke=\"black\" points=\"425,-28 425,-63.5\"/>\n",
       "<text xml:space=\"preserve\" text-anchor=\"middle\" x=\"465.62\" y=\"-40.7\" font-family=\"Times New Roman,serif\" font-size=\"14.00\">grad 0.0000</text>\n",
       "</g>\n",
       "<!-- 1572347489936+ -->\n",
       "<g id=\"node5\" class=\"node\">\n",
       "<title>1572347489936+</title>\n",
       "<ellipse fill=\"none\" stroke=\"black\" cx=\"569.25\" cy=\"-72.5\" rx=\"27\" ry=\"18\"/>\n",
       "<text xml:space=\"preserve\" text-anchor=\"middle\" x=\"569.25\" y=\"-67.45\" font-family=\"Times New Roman,serif\" font-size=\"14.00\">+</text>\n",
       "</g>\n",
       "<!-- 1572368104976&#45;&gt;1572347489936+ -->\n",
       "<g id=\"edge6\" class=\"edge\">\n",
       "<title>1572368104976&#45;&gt;1572347489936+</title>\n",
       "<path fill=\"none\" stroke=\"black\" d=\"M506.64,-61.83C515.41,-63.35 523.9,-64.82 531.62,-66.15\"/>\n",
       "<polygon fill=\"black\" stroke=\"black\" points=\"530.75,-69.56 541.2,-67.81 531.94,-62.66 530.75,-69.56\"/>\n",
       "</g>\n",
       "<!-- 1572368104976* -->\n",
       "<g id=\"node2\" class=\"node\">\n",
       "<title>1572368104976*</title>\n",
       "<ellipse fill=\"none\" stroke=\"black\" cx=\"253.5\" cy=\"-45.5\" rx=\"27\" ry=\"18\"/>\n",
       "<text xml:space=\"preserve\" text-anchor=\"middle\" x=\"253.5\" y=\"-40.45\" font-family=\"Times New Roman,serif\" font-size=\"14.00\">*</text>\n",
       "</g>\n",
       "<!-- 1572368104976*&#45;&gt;1572368104976 -->\n",
       "<g id=\"edge1\" class=\"edge\">\n",
       "<title>1572368104976*&#45;&gt;1572368104976</title>\n",
       "<path fill=\"none\" stroke=\"black\" d=\"M280.94,-45.5C288.09,-45.5 296.28,-45.5 304.99,-45.5\"/>\n",
       "<polygon fill=\"black\" stroke=\"black\" points=\"304.76,-49 314.76,-45.5 304.76,-42 304.76,-49\"/>\n",
       "</g>\n",
       "<!-- 1572368151120 -->\n",
       "<g id=\"node3\" class=\"node\">\n",
       "<title>1572368151120</title>\n",
       "<polygon fill=\"none\" stroke=\"black\" points=\"3.75,-55.5 3.75,-91.5 186.75,-91.5 186.75,-55.5 3.75,-55.5\"/>\n",
       "<text xml:space=\"preserve\" text-anchor=\"middle\" x=\"14.75\" y=\"-68.7\" font-family=\"Times New Roman,serif\" font-size=\"14.00\">a</text>\n",
       "<polyline fill=\"none\" stroke=\"black\" points=\"25.75,-56 25.75,-91.5\"/>\n",
       "<text xml:space=\"preserve\" text-anchor=\"middle\" x=\"65.62\" y=\"-68.7\" font-family=\"Times New Roman,serif\" font-size=\"14.00\">data 2.0000</text>\n",
       "<polyline fill=\"none\" stroke=\"black\" points=\"105.5,-56 105.5,-91.5\"/>\n",
       "<text xml:space=\"preserve\" text-anchor=\"middle\" x=\"146.12\" y=\"-68.7\" font-family=\"Times New Roman,serif\" font-size=\"14.00\">grad 0.0000</text>\n",
       "</g>\n",
       "<!-- 1572368151120&#45;&gt;1572368104976* -->\n",
       "<g id=\"edge8\" class=\"edge\">\n",
       "<title>1572368151120&#45;&gt;1572368104976*</title>\n",
       "<path fill=\"none\" stroke=\"black\" d=\"M187.14,-57.21C197.2,-55.41 206.98,-53.66 215.76,-52.08\"/>\n",
       "<polygon fill=\"black\" stroke=\"black\" points=\"216.36,-55.53 225.59,-50.32 215.12,-48.64 216.36,-55.53\"/>\n",
       "</g>\n",
       "<!-- 1572347489936 -->\n",
       "<g id=\"node4\" class=\"node\">\n",
       "<title>1572347489936</title>\n",
       "<polygon fill=\"none\" stroke=\"black\" points=\"632.25,-54.5 632.25,-90.5 822.75,-90.5 822.75,-54.5 632.25,-54.5\"/>\n",
       "<text xml:space=\"preserve\" text-anchor=\"middle\" x=\"643.62\" y=\"-67.7\" font-family=\"Times New Roman,serif\" font-size=\"14.00\">d</text>\n",
       "<polyline fill=\"none\" stroke=\"black\" points=\"655,-55 655,-90.5\"/>\n",
       "<text xml:space=\"preserve\" text-anchor=\"middle\" x=\"698.25\" y=\"-67.7\" font-family=\"Times New Roman,serif\" font-size=\"14.00\">data 27.0000</text>\n",
       "<polyline fill=\"none\" stroke=\"black\" points=\"741.5,-55 741.5,-90.5\"/>\n",
       "<text xml:space=\"preserve\" text-anchor=\"middle\" x=\"782.12\" y=\"-67.7\" font-family=\"Times New Roman,serif\" font-size=\"14.00\">grad 0.0000</text>\n",
       "</g>\n",
       "<!-- 1572367207120* -->\n",
       "<g id=\"node7\" class=\"node\">\n",
       "<title>1572367207120*</title>\n",
       "<ellipse fill=\"none\" stroke=\"black\" cx=\"885.75\" cy=\"-99.5\" rx=\"27\" ry=\"18\"/>\n",
       "<text xml:space=\"preserve\" text-anchor=\"middle\" x=\"885.75\" y=\"-94.45\" font-family=\"Times New Roman,serif\" font-size=\"14.00\">*</text>\n",
       "</g>\n",
       "<!-- 1572347489936&#45;&gt;1572367207120* -->\n",
       "<g id=\"edge7\" class=\"edge\">\n",
       "<title>1572347489936&#45;&gt;1572367207120*</title>\n",
       "<path fill=\"none\" stroke=\"black\" d=\"M823,-88.83C831.79,-90.35 840.29,-91.82 848.03,-93.15\"/>\n",
       "<polygon fill=\"black\" stroke=\"black\" points=\"847.19,-96.56 857.64,-94.81 848.38,-89.66 847.19,-96.56\"/>\n",
       "</g>\n",
       "<!-- 1572347489936+&#45;&gt;1572347489936 -->\n",
       "<g id=\"edge2\" class=\"edge\">\n",
       "<title>1572347489936+&#45;&gt;1572347489936</title>\n",
       "<path fill=\"none\" stroke=\"black\" d=\"M596.4,-72.5C603.55,-72.5 611.76,-72.5 620.5,-72.5\"/>\n",
       "<polygon fill=\"black\" stroke=\"black\" points=\"620.31,-76 630.31,-72.5 620.31,-69 620.31,-76\"/>\n",
       "</g>\n",
       "<!-- 1572367207120 -->\n",
       "<g id=\"node6\" class=\"node\">\n",
       "<title>1572367207120</title>\n",
       "<polygon fill=\"none\" stroke=\"black\" points=\"948.75,-81.5 948.75,-117.5 1147.5,-117.5 1147.5,-81.5 948.75,-81.5\"/>\n",
       "<text xml:space=\"preserve\" text-anchor=\"middle\" x=\"960.88\" y=\"-94.7\" font-family=\"Times New Roman,serif\" font-size=\"14.00\">L</text>\n",
       "<polyline fill=\"none\" stroke=\"black\" points=\"973,-82 973,-117.5\"/>\n",
       "<text xml:space=\"preserve\" text-anchor=\"middle\" x=\"1019.62\" y=\"-94.7\" font-family=\"Times New Roman,serif\" font-size=\"14.00\">data 108.0000</text>\n",
       "<polyline fill=\"none\" stroke=\"black\" points=\"1066.25,-82 1066.25,-117.5\"/>\n",
       "<text xml:space=\"preserve\" text-anchor=\"middle\" x=\"1106.88\" y=\"-94.7\" font-family=\"Times New Roman,serif\" font-size=\"14.00\">grad 0.0000</text>\n",
       "</g>\n",
       "<!-- 1572367207120*&#45;&gt;1572367207120 -->\n",
       "<g id=\"edge3\" class=\"edge\">\n",
       "<title>1572367207120*&#45;&gt;1572367207120</title>\n",
       "<path fill=\"none\" stroke=\"black\" d=\"M913.23,-99.5C920.36,-99.5 928.54,-99.5 937.27,-99.5\"/>\n",
       "<polygon fill=\"black\" stroke=\"black\" points=\"937.06,-103 947.06,-99.5 937.06,-96 937.06,-103\"/>\n",
       "</g>\n",
       "<!-- 1572368141584 -->\n",
       "<g id=\"node8\" class=\"node\">\n",
       "<title>1572368141584</title>\n",
       "<polygon fill=\"none\" stroke=\"black\" points=\"319.88,-82.5 319.88,-118.5 502.88,-118.5 502.88,-82.5 319.88,-82.5\"/>\n",
       "<text xml:space=\"preserve\" text-anchor=\"middle\" x=\"330.88\" y=\"-95.7\" font-family=\"Times New Roman,serif\" font-size=\"14.00\">c</text>\n",
       "<polyline fill=\"none\" stroke=\"black\" points=\"341.88,-83 341.88,-118.5\"/>\n",
       "<text xml:space=\"preserve\" text-anchor=\"middle\" x=\"381.75\" y=\"-95.7\" font-family=\"Times New Roman,serif\" font-size=\"14.00\">data 7.0000</text>\n",
       "<polyline fill=\"none\" stroke=\"black\" points=\"421.62,-83 421.62,-118.5\"/>\n",
       "<text xml:space=\"preserve\" text-anchor=\"middle\" x=\"462.25\" y=\"-95.7\" font-family=\"Times New Roman,serif\" font-size=\"14.00\">grad 0.0000</text>\n",
       "</g>\n",
       "<!-- 1572368141584&#45;&gt;1572347489936+ -->\n",
       "<g id=\"edge9\" class=\"edge\">\n",
       "<title>1572368141584&#45;&gt;1572347489936+</title>\n",
       "<path fill=\"none\" stroke=\"black\" d=\"M503.05,-84.21C513.09,-82.41 522.83,-80.66 531.6,-79.08\"/>\n",
       "<polygon fill=\"black\" stroke=\"black\" points=\"532.17,-82.54 541.4,-77.32 530.94,-75.65 532.17,-82.54\"/>\n",
       "</g>\n",
       "<!-- 1572368144720 -->\n",
       "<g id=\"node9\" class=\"node\">\n",
       "<title>1572368144720</title>\n",
       "<polygon fill=\"none\" stroke=\"black\" points=\"636.75,-109.5 636.75,-145.5 818.25,-145.5 818.25,-109.5 636.75,-109.5\"/>\n",
       "<text xml:space=\"preserve\" text-anchor=\"middle\" x=\"647\" y=\"-122.7\" font-family=\"Times New Roman,serif\" font-size=\"14.00\">f</text>\n",
       "<polyline fill=\"none\" stroke=\"black\" points=\"657.25,-110 657.25,-145.5\"/>\n",
       "<text xml:space=\"preserve\" text-anchor=\"middle\" x=\"697.12\" y=\"-122.7\" font-family=\"Times New Roman,serif\" font-size=\"14.00\">data 4.0000</text>\n",
       "<polyline fill=\"none\" stroke=\"black\" points=\"737,-110 737,-145.5\"/>\n",
       "<text xml:space=\"preserve\" text-anchor=\"middle\" x=\"777.62\" y=\"-122.7\" font-family=\"Times New Roman,serif\" font-size=\"14.00\">grad 0.0000</text>\n",
       "</g>\n",
       "<!-- 1572368144720&#45;&gt;1572367207120* -->\n",
       "<g id=\"edge4\" class=\"edge\">\n",
       "<title>1572368144720&#45;&gt;1572367207120*</title>\n",
       "<path fill=\"none\" stroke=\"black\" d=\"M818.49,-111.37C828.86,-109.51 838.95,-107.71 848,-106.08\"/>\n",
       "<polygon fill=\"black\" stroke=\"black\" points=\"848.52,-109.55 857.75,-104.34 847.29,-102.66 848.52,-109.55\"/>\n",
       "</g>\n",
       "<!-- 1572368138704 -->\n",
       "<g id=\"node10\" class=\"node\">\n",
       "<title>1572368138704</title>\n",
       "<polygon fill=\"none\" stroke=\"black\" points=\"0,-0.5 0,-36.5 190.5,-36.5 190.5,-0.5 0,-0.5\"/>\n",
       "<text xml:space=\"preserve\" text-anchor=\"middle\" x=\"11.38\" y=\"-13.7\" font-family=\"Times New Roman,serif\" font-size=\"14.00\">b</text>\n",
       "<polyline fill=\"none\" stroke=\"black\" points=\"22.75,-1 22.75,-36.5\"/>\n",
       "<text xml:space=\"preserve\" text-anchor=\"middle\" x=\"66\" y=\"-13.7\" font-family=\"Times New Roman,serif\" font-size=\"14.00\">data 10.0000</text>\n",
       "<polyline fill=\"none\" stroke=\"black\" points=\"109.25,-1 109.25,-36.5\"/>\n",
       "<text xml:space=\"preserve\" text-anchor=\"middle\" x=\"149.88\" y=\"-13.7\" font-family=\"Times New Roman,serif\" font-size=\"14.00\">grad 0.0000</text>\n",
       "</g>\n",
       "<!-- 1572368138704&#45;&gt;1572368104976* -->\n",
       "<g id=\"edge5\" class=\"edge\">\n",
       "<title>1572368138704&#45;&gt;1572368104976*</title>\n",
       "<path fill=\"none\" stroke=\"black\" d=\"M190.75,-34.83C199.54,-36.35 208.04,-37.82 215.78,-39.15\"/>\n",
       "<polygon fill=\"black\" stroke=\"black\" points=\"214.94,-42.56 225.39,-40.81 216.13,-35.66 214.94,-42.56\"/>\n",
       "</g>\n",
       "</g>\n",
       "</svg>\n"
      ],
      "text/plain": [
       "<graphviz.graphs.Digraph at 0x16e1846f610>"
      ]
     },
     "execution_count": 182,
     "metadata": {},
     "output_type": "execute_result"
    }
   ],
   "source": [
    "draw_dot(L)"
   ]
  },
  {
   "cell_type": "code",
   "execution_count": 183,
   "id": "172e3450-2a64-45d2-af41-082c0d38ce0c",
   "metadata": {},
   "outputs": [
    {
     "data": {
      "text/plain": [
       "()"
      ]
     },
     "execution_count": 183,
     "metadata": {},
     "output_type": "execute_result"
    }
   ],
   "source": [
    "c.children"
   ]
  },
  {
   "cell_type": "code",
   "execution_count": 184,
   "id": "41b6992d-ea3c-4197-9464-97d315eaacd4",
   "metadata": {},
   "outputs": [],
   "source": [
    "def backprop(root,grad = 1):\n",
    "\n",
    "\n",
    "    if root.children == ():\n",
    "        return \n",
    "\n",
    "    root.grad = grad\n",
    "    \n",
    "    left = root.children[0]\n",
    "    right = root.children[1]\n",
    "\n",
    "    print(left,right)\n",
    "\n",
    "    if root.op == \"+\":\n",
    "        left.grad = root.grad\n",
    "        right.grad = root.grad\n",
    "        print(\"+\",left.grad,right.grad)\n",
    "    else:\n",
    "        left.grad = right.data *root.grad\n",
    "        right.grad = left.data *root.grad\n",
    "        print(\"*\",left.grad,right.grad)\n",
    "\n",
    "    chain(left,left.grad)\n",
    "    chain(right,right.grad)\n",
    "\n",
    "    return\n",
    "\n",
    "    \n",
    "    "
   ]
  },
  {
   "cell_type": "code",
   "execution_count": 185,
   "id": "27f709df-5e6b-4623-b39b-9147c9fd70bd",
   "metadata": {},
   "outputs": [
    {
     "name": "stdout",
     "output_type": "stream",
     "text": [
      "Value(data=4) Value(data=27)\n",
      "* 27 4\n",
      "Value(data=20) Value(data=7)\n",
      "+ 4 4\n",
      "Value(data=2) Value(data=10)\n",
      "* 40 8\n"
     ]
    }
   ],
   "source": [
    "chain(L)"
   ]
  },
  {
   "cell_type": "code",
   "execution_count": 186,
   "id": "673a7d77-b54d-4336-9534-e023b465fc71",
   "metadata": {},
   "outputs": [
    {
     "data": {
      "image/svg+xml": [
       "<?xml version=\"1.0\" encoding=\"UTF-8\" standalone=\"no\"?>\n",
       "<!DOCTYPE svg PUBLIC \"-//W3C//DTD SVG 1.1//EN\"\n",
       " \"http://www.w3.org/Graphics/SVG/1.1/DTD/svg11.dtd\">\n",
       "<!-- Generated by graphviz version 13.1.2 (20250808.2320)\n",
       " -->\n",
       "<!-- Pages: 1 -->\n",
       "<svg width=\"1156pt\" height=\"154pt\"\n",
       " viewBox=\"0.00 0.00 1156.00 154.00\" xmlns=\"http://www.w3.org/2000/svg\" xmlns:xlink=\"http://www.w3.org/1999/xlink\">\n",
       "<g id=\"graph0\" class=\"graph\" transform=\"scale(1 1) rotate(0) translate(4 150)\">\n",
       "<polygon fill=\"white\" stroke=\"none\" points=\"-4,4 -4,-150 1151.5,-150 1151.5,4 -4,4\"/>\n",
       "<!-- 1572368104976 -->\n",
       "<g id=\"node1\" class=\"node\">\n",
       "<title>1572368104976</title>\n",
       "<polygon fill=\"none\" stroke=\"black\" points=\"316.5,-27.5 316.5,-63.5 506.25,-63.5 506.25,-27.5 316.5,-27.5\"/>\n",
       "<text xml:space=\"preserve\" text-anchor=\"middle\" x=\"327.5\" y=\"-40.7\" font-family=\"Times New Roman,serif\" font-size=\"14.00\">e</text>\n",
       "<polyline fill=\"none\" stroke=\"black\" points=\"338.5,-28 338.5,-63.5\"/>\n",
       "<text xml:space=\"preserve\" text-anchor=\"middle\" x=\"381.75\" y=\"-40.7\" font-family=\"Times New Roman,serif\" font-size=\"14.00\">data 20.0000</text>\n",
       "<polyline fill=\"none\" stroke=\"black\" points=\"425,-28 425,-63.5\"/>\n",
       "<text xml:space=\"preserve\" text-anchor=\"middle\" x=\"465.62\" y=\"-40.7\" font-family=\"Times New Roman,serif\" font-size=\"14.00\">grad 4.0000</text>\n",
       "</g>\n",
       "<!-- 1572347489936+ -->\n",
       "<g id=\"node5\" class=\"node\">\n",
       "<title>1572347489936+</title>\n",
       "<ellipse fill=\"none\" stroke=\"black\" cx=\"569.25\" cy=\"-72.5\" rx=\"27\" ry=\"18\"/>\n",
       "<text xml:space=\"preserve\" text-anchor=\"middle\" x=\"569.25\" y=\"-67.45\" font-family=\"Times New Roman,serif\" font-size=\"14.00\">+</text>\n",
       "</g>\n",
       "<!-- 1572368104976&#45;&gt;1572347489936+ -->\n",
       "<g id=\"edge6\" class=\"edge\">\n",
       "<title>1572368104976&#45;&gt;1572347489936+</title>\n",
       "<path fill=\"none\" stroke=\"black\" d=\"M506.64,-61.83C515.41,-63.35 523.9,-64.82 531.62,-66.15\"/>\n",
       "<polygon fill=\"black\" stroke=\"black\" points=\"530.75,-69.56 541.2,-67.81 531.94,-62.66 530.75,-69.56\"/>\n",
       "</g>\n",
       "<!-- 1572368104976* -->\n",
       "<g id=\"node2\" class=\"node\">\n",
       "<title>1572368104976*</title>\n",
       "<ellipse fill=\"none\" stroke=\"black\" cx=\"253.5\" cy=\"-45.5\" rx=\"27\" ry=\"18\"/>\n",
       "<text xml:space=\"preserve\" text-anchor=\"middle\" x=\"253.5\" y=\"-40.45\" font-family=\"Times New Roman,serif\" font-size=\"14.00\">*</text>\n",
       "</g>\n",
       "<!-- 1572368104976*&#45;&gt;1572368104976 -->\n",
       "<g id=\"edge1\" class=\"edge\">\n",
       "<title>1572368104976*&#45;&gt;1572368104976</title>\n",
       "<path fill=\"none\" stroke=\"black\" d=\"M280.94,-45.5C288.09,-45.5 296.28,-45.5 304.99,-45.5\"/>\n",
       "<polygon fill=\"black\" stroke=\"black\" points=\"304.76,-49 314.76,-45.5 304.76,-42 304.76,-49\"/>\n",
       "</g>\n",
       "<!-- 1572368151120 -->\n",
       "<g id=\"node3\" class=\"node\">\n",
       "<title>1572368151120</title>\n",
       "<polygon fill=\"none\" stroke=\"black\" points=\"0.38,-55.5 0.38,-91.5 190.12,-91.5 190.12,-55.5 0.38,-55.5\"/>\n",
       "<text xml:space=\"preserve\" text-anchor=\"middle\" x=\"11.38\" y=\"-68.7\" font-family=\"Times New Roman,serif\" font-size=\"14.00\">a</text>\n",
       "<polyline fill=\"none\" stroke=\"black\" points=\"22.38,-56 22.38,-91.5\"/>\n",
       "<text xml:space=\"preserve\" text-anchor=\"middle\" x=\"62.25\" y=\"-68.7\" font-family=\"Times New Roman,serif\" font-size=\"14.00\">data 2.0000</text>\n",
       "<polyline fill=\"none\" stroke=\"black\" points=\"102.12,-56 102.12,-91.5\"/>\n",
       "<text xml:space=\"preserve\" text-anchor=\"middle\" x=\"146.12\" y=\"-68.7\" font-family=\"Times New Roman,serif\" font-size=\"14.00\">grad 40.0000</text>\n",
       "</g>\n",
       "<!-- 1572368151120&#45;&gt;1572368104976* -->\n",
       "<g id=\"edge8\" class=\"edge\">\n",
       "<title>1572368151120&#45;&gt;1572368104976*</title>\n",
       "<path fill=\"none\" stroke=\"black\" d=\"M190.3,-56.65C199.22,-55.05 207.86,-53.5 215.72,-52.09\"/>\n",
       "<polygon fill=\"black\" stroke=\"black\" points=\"216.26,-55.55 225.48,-50.34 215.02,-48.66 216.26,-55.55\"/>\n",
       "</g>\n",
       "<!-- 1572347489936 -->\n",
       "<g id=\"node4\" class=\"node\">\n",
       "<title>1572347489936</title>\n",
       "<polygon fill=\"none\" stroke=\"black\" points=\"632.25,-54.5 632.25,-90.5 822.75,-90.5 822.75,-54.5 632.25,-54.5\"/>\n",
       "<text xml:space=\"preserve\" text-anchor=\"middle\" x=\"643.62\" y=\"-67.7\" font-family=\"Times New Roman,serif\" font-size=\"14.00\">d</text>\n",
       "<polyline fill=\"none\" stroke=\"black\" points=\"655,-55 655,-90.5\"/>\n",
       "<text xml:space=\"preserve\" text-anchor=\"middle\" x=\"698.25\" y=\"-67.7\" font-family=\"Times New Roman,serif\" font-size=\"14.00\">data 27.0000</text>\n",
       "<polyline fill=\"none\" stroke=\"black\" points=\"741.5,-55 741.5,-90.5\"/>\n",
       "<text xml:space=\"preserve\" text-anchor=\"middle\" x=\"782.12\" y=\"-67.7\" font-family=\"Times New Roman,serif\" font-size=\"14.00\">grad 4.0000</text>\n",
       "</g>\n",
       "<!-- 1572367207120* -->\n",
       "<g id=\"node7\" class=\"node\">\n",
       "<title>1572367207120*</title>\n",
       "<ellipse fill=\"none\" stroke=\"black\" cx=\"885.75\" cy=\"-99.5\" rx=\"27\" ry=\"18\"/>\n",
       "<text xml:space=\"preserve\" text-anchor=\"middle\" x=\"885.75\" y=\"-94.45\" font-family=\"Times New Roman,serif\" font-size=\"14.00\">*</text>\n",
       "</g>\n",
       "<!-- 1572347489936&#45;&gt;1572367207120* -->\n",
       "<g id=\"edge7\" class=\"edge\">\n",
       "<title>1572347489936&#45;&gt;1572367207120*</title>\n",
       "<path fill=\"none\" stroke=\"black\" d=\"M823,-88.83C831.79,-90.35 840.29,-91.82 848.03,-93.15\"/>\n",
       "<polygon fill=\"black\" stroke=\"black\" points=\"847.19,-96.56 857.64,-94.81 848.38,-89.66 847.19,-96.56\"/>\n",
       "</g>\n",
       "<!-- 1572347489936+&#45;&gt;1572347489936 -->\n",
       "<g id=\"edge2\" class=\"edge\">\n",
       "<title>1572347489936+&#45;&gt;1572347489936</title>\n",
       "<path fill=\"none\" stroke=\"black\" d=\"M596.4,-72.5C603.55,-72.5 611.76,-72.5 620.5,-72.5\"/>\n",
       "<polygon fill=\"black\" stroke=\"black\" points=\"620.31,-76 630.31,-72.5 620.31,-69 620.31,-76\"/>\n",
       "</g>\n",
       "<!-- 1572367207120 -->\n",
       "<g id=\"node6\" class=\"node\">\n",
       "<title>1572367207120</title>\n",
       "<polygon fill=\"none\" stroke=\"black\" points=\"948.75,-81.5 948.75,-117.5 1147.5,-117.5 1147.5,-81.5 948.75,-81.5\"/>\n",
       "<text xml:space=\"preserve\" text-anchor=\"middle\" x=\"960.88\" y=\"-94.7\" font-family=\"Times New Roman,serif\" font-size=\"14.00\">L</text>\n",
       "<polyline fill=\"none\" stroke=\"black\" points=\"973,-82 973,-117.5\"/>\n",
       "<text xml:space=\"preserve\" text-anchor=\"middle\" x=\"1019.62\" y=\"-94.7\" font-family=\"Times New Roman,serif\" font-size=\"14.00\">data 108.0000</text>\n",
       "<polyline fill=\"none\" stroke=\"black\" points=\"1066.25,-82 1066.25,-117.5\"/>\n",
       "<text xml:space=\"preserve\" text-anchor=\"middle\" x=\"1106.88\" y=\"-94.7\" font-family=\"Times New Roman,serif\" font-size=\"14.00\">grad 1.0000</text>\n",
       "</g>\n",
       "<!-- 1572367207120*&#45;&gt;1572367207120 -->\n",
       "<g id=\"edge3\" class=\"edge\">\n",
       "<title>1572367207120*&#45;&gt;1572367207120</title>\n",
       "<path fill=\"none\" stroke=\"black\" d=\"M913.23,-99.5C920.36,-99.5 928.54,-99.5 937.27,-99.5\"/>\n",
       "<polygon fill=\"black\" stroke=\"black\" points=\"937.06,-103 947.06,-99.5 937.06,-96 937.06,-103\"/>\n",
       "</g>\n",
       "<!-- 1572368141584 -->\n",
       "<g id=\"node8\" class=\"node\">\n",
       "<title>1572368141584</title>\n",
       "<polygon fill=\"none\" stroke=\"black\" points=\"319.88,-82.5 319.88,-118.5 502.88,-118.5 502.88,-82.5 319.88,-82.5\"/>\n",
       "<text xml:space=\"preserve\" text-anchor=\"middle\" x=\"330.88\" y=\"-95.7\" font-family=\"Times New Roman,serif\" font-size=\"14.00\">c</text>\n",
       "<polyline fill=\"none\" stroke=\"black\" points=\"341.88,-83 341.88,-118.5\"/>\n",
       "<text xml:space=\"preserve\" text-anchor=\"middle\" x=\"381.75\" y=\"-95.7\" font-family=\"Times New Roman,serif\" font-size=\"14.00\">data 7.0000</text>\n",
       "<polyline fill=\"none\" stroke=\"black\" points=\"421.62,-83 421.62,-118.5\"/>\n",
       "<text xml:space=\"preserve\" text-anchor=\"middle\" x=\"462.25\" y=\"-95.7\" font-family=\"Times New Roman,serif\" font-size=\"14.00\">grad 4.0000</text>\n",
       "</g>\n",
       "<!-- 1572368141584&#45;&gt;1572347489936+ -->\n",
       "<g id=\"edge9\" class=\"edge\">\n",
       "<title>1572368141584&#45;&gt;1572347489936+</title>\n",
       "<path fill=\"none\" stroke=\"black\" d=\"M503.05,-84.21C513.09,-82.41 522.83,-80.66 531.6,-79.08\"/>\n",
       "<polygon fill=\"black\" stroke=\"black\" points=\"532.17,-82.54 541.4,-77.32 530.94,-75.65 532.17,-82.54\"/>\n",
       "</g>\n",
       "<!-- 1572368144720 -->\n",
       "<g id=\"node9\" class=\"node\">\n",
       "<title>1572368144720</title>\n",
       "<polygon fill=\"none\" stroke=\"black\" points=\"633.38,-109.5 633.38,-145.5 821.62,-145.5 821.62,-109.5 633.38,-109.5\"/>\n",
       "<text xml:space=\"preserve\" text-anchor=\"middle\" x=\"643.62\" y=\"-122.7\" font-family=\"Times New Roman,serif\" font-size=\"14.00\">f</text>\n",
       "<polyline fill=\"none\" stroke=\"black\" points=\"653.88,-110 653.88,-145.5\"/>\n",
       "<text xml:space=\"preserve\" text-anchor=\"middle\" x=\"693.75\" y=\"-122.7\" font-family=\"Times New Roman,serif\" font-size=\"14.00\">data 4.0000</text>\n",
       "<polyline fill=\"none\" stroke=\"black\" points=\"733.62,-110 733.62,-145.5\"/>\n",
       "<text xml:space=\"preserve\" text-anchor=\"middle\" x=\"777.62\" y=\"-122.7\" font-family=\"Times New Roman,serif\" font-size=\"14.00\">grad 27.0000</text>\n",
       "</g>\n",
       "<!-- 1572368144720&#45;&gt;1572367207120* -->\n",
       "<g id=\"edge4\" class=\"edge\">\n",
       "<title>1572368144720&#45;&gt;1572367207120*</title>\n",
       "<path fill=\"none\" stroke=\"black\" d=\"M822.1,-110.73C831.27,-109.08 840.14,-107.49 848.19,-106.05\"/>\n",
       "<polygon fill=\"black\" stroke=\"black\" points=\"848.6,-109.53 857.83,-104.32 847.37,-102.64 848.6,-109.53\"/>\n",
       "</g>\n",
       "<!-- 1572368138704 -->\n",
       "<g id=\"node10\" class=\"node\">\n",
       "<title>1572368138704</title>\n",
       "<polygon fill=\"none\" stroke=\"black\" points=\"0,-0.5 0,-36.5 190.5,-36.5 190.5,-0.5 0,-0.5\"/>\n",
       "<text xml:space=\"preserve\" text-anchor=\"middle\" x=\"11.38\" y=\"-13.7\" font-family=\"Times New Roman,serif\" font-size=\"14.00\">b</text>\n",
       "<polyline fill=\"none\" stroke=\"black\" points=\"22.75,-1 22.75,-36.5\"/>\n",
       "<text xml:space=\"preserve\" text-anchor=\"middle\" x=\"66\" y=\"-13.7\" font-family=\"Times New Roman,serif\" font-size=\"14.00\">data 10.0000</text>\n",
       "<polyline fill=\"none\" stroke=\"black\" points=\"109.25,-1 109.25,-36.5\"/>\n",
       "<text xml:space=\"preserve\" text-anchor=\"middle\" x=\"149.88\" y=\"-13.7\" font-family=\"Times New Roman,serif\" font-size=\"14.00\">grad 8.0000</text>\n",
       "</g>\n",
       "<!-- 1572368138704&#45;&gt;1572368104976* -->\n",
       "<g id=\"edge5\" class=\"edge\">\n",
       "<title>1572368138704&#45;&gt;1572368104976*</title>\n",
       "<path fill=\"none\" stroke=\"black\" d=\"M190.75,-34.83C199.54,-36.35 208.04,-37.82 215.78,-39.15\"/>\n",
       "<polygon fill=\"black\" stroke=\"black\" points=\"214.94,-42.56 225.39,-40.81 216.13,-35.66 214.94,-42.56\"/>\n",
       "</g>\n",
       "</g>\n",
       "</svg>\n"
      ],
      "text/plain": [
       "<graphviz.graphs.Digraph at 0x16e1859f3d0>"
      ]
     },
     "execution_count": 186,
     "metadata": {},
     "output_type": "execute_result"
    }
   ],
   "source": [
    "draw_dot(L)"
   ]
  },
  {
   "cell_type": "code",
   "execution_count": 187,
   "id": "7f247743-588b-41a1-a9ca-39bacec160f1",
   "metadata": {},
   "outputs": [
    {
     "name": "stdout",
     "output_type": "stream",
     "text": [
      "{'data': 2, 'op': '', 'children': (), 'label': 'a', 'grad': 40}\n"
     ]
    }
   ],
   "source": [
    "print(a.__dict__)"
   ]
  },
  {
   "cell_type": "code",
   "execution_count": 188,
   "id": "8c6fe8ea-91d6-4a58-aa3c-b84a98827fb2",
   "metadata": {},
   "outputs": [],
   "source": [
    "a.data -= 0.01 * a.grad\n",
    "b.data -= 0.01 * b.grad\n",
    "c.data -= 0.01 * c.grad\n",
    "f.data -= 0.01 * f.grad\n"
   ]
  },
  {
   "cell_type": "code",
   "execution_count": 189,
   "id": "ae452573-b153-4ce4-bc30-99d5640cf9cf",
   "metadata": {},
   "outputs": [
    {
     "name": "stdout",
     "output_type": "stream",
     "text": [
      "{'data': 1.6, 'op': '', 'children': (), 'label': 'a', 'grad': 40}\n"
     ]
    }
   ],
   "source": [
    "print(a.__dict__)"
   ]
  },
  {
   "cell_type": "code",
   "execution_count": 190,
   "id": "6824d7b2-da5b-400f-988d-65362f6564a7",
   "metadata": {},
   "outputs": [
    {
     "name": "stdout",
     "output_type": "stream",
     "text": [
      "{'data': 20, 'op': '*', 'children': (Value(data=1.6), Value(data=9.92)), 'label': 'e', 'grad': 4}\n"
     ]
    }
   ],
   "source": [
    "print(e.__dict__)"
   ]
  },
  {
   "cell_type": "code",
   "execution_count": 191,
   "id": "b6be59d7-04d3-442f-ad64-0eec14f2f3bb",
   "metadata": {},
   "outputs": [],
   "source": [
    "e.data = a.data * b.data\n",
    "d.data = e.data + c.data\n",
    "L.data = f.data * d.data"
   ]
  },
  {
   "cell_type": "code",
   "execution_count": 192,
   "id": "da8e9e81-2ec2-4447-9b45-d9056c5f9304",
   "metadata": {},
   "outputs": [
    {
     "name": "stdout",
     "output_type": "stream",
     "text": [
      "{'data': 15.872, 'op': '*', 'children': (Value(data=1.6), Value(data=9.92)), 'label': 'e', 'grad': 4}\n"
     ]
    }
   ],
   "source": [
    "print(e.__dict__)"
   ]
  },
  {
   "cell_type": "code",
   "execution_count": 193,
   "id": "6cdf1333-6e7f-45dd-9268-392340d81b97",
   "metadata": {},
   "outputs": [
    {
     "data": {
      "text/plain": [
       "85.16336"
      ]
     },
     "execution_count": 193,
     "metadata": {},
     "output_type": "execute_result"
    }
   ],
   "source": [
    "L.data"
   ]
  },
  {
   "cell_type": "code",
   "execution_count": 194,
   "id": "f72dfb1e-f345-43d4-84c5-bec4738fe27c",
   "metadata": {},
   "outputs": [
    {
     "name": "stdout",
     "output_type": "stream",
     "text": [
      "Value(data=3.73) Value(data=22.832)\n",
      "* 22.832 3.73\n",
      "Value(data=15.872) Value(data=6.96)\n",
      "+ 3.73 3.73\n",
      "Value(data=1.6) Value(data=9.92)\n",
      "* 37.001599999999996 5.968\n"
     ]
    }
   ],
   "source": [
    "chain(L)"
   ]
  },
  {
   "cell_type": "code",
   "execution_count": 195,
   "id": "82e3a20d-e637-435b-8f1c-32bb4953af68",
   "metadata": {},
   "outputs": [
    {
     "data": {
      "image/svg+xml": [
       "<?xml version=\"1.0\" encoding=\"UTF-8\" standalone=\"no\"?>\n",
       "<!DOCTYPE svg PUBLIC \"-//W3C//DTD SVG 1.1//EN\"\n",
       " \"http://www.w3.org/Graphics/SVG/1.1/DTD/svg11.dtd\">\n",
       "<!-- Generated by graphviz version 13.1.2 (20250808.2320)\n",
       " -->\n",
       "<!-- Pages: 1 -->\n",
       "<svg width=\"1148pt\" height=\"154pt\"\n",
       " viewBox=\"0.00 0.00 1148.00 154.00\" xmlns=\"http://www.w3.org/2000/svg\" xmlns:xlink=\"http://www.w3.org/1999/xlink\">\n",
       "<g id=\"graph0\" class=\"graph\" transform=\"scale(1 1) rotate(0) translate(4 150)\">\n",
       "<polygon fill=\"white\" stroke=\"none\" points=\"-4,4 -4,-150 1144,-150 1144,4 -4,4\"/>\n",
       "<!-- 1572368104976 -->\n",
       "<g id=\"node1\" class=\"node\">\n",
       "<title>1572368104976</title>\n",
       "<polygon fill=\"none\" stroke=\"black\" points=\"315.75,-27.5 315.75,-63.5 505.5,-63.5 505.5,-27.5 315.75,-27.5\"/>\n",
       "<text xml:space=\"preserve\" text-anchor=\"middle\" x=\"326.75\" y=\"-40.7\" font-family=\"Times New Roman,serif\" font-size=\"14.00\">e</text>\n",
       "<polyline fill=\"none\" stroke=\"black\" points=\"337.75,-28 337.75,-63.5\"/>\n",
       "<text xml:space=\"preserve\" text-anchor=\"middle\" x=\"381\" y=\"-40.7\" font-family=\"Times New Roman,serif\" font-size=\"14.00\">data 15.8720</text>\n",
       "<polyline fill=\"none\" stroke=\"black\" points=\"424.25,-28 424.25,-63.5\"/>\n",
       "<text xml:space=\"preserve\" text-anchor=\"middle\" x=\"464.88\" y=\"-40.7\" font-family=\"Times New Roman,serif\" font-size=\"14.00\">grad 3.7300</text>\n",
       "</g>\n",
       "<!-- 1572347489936+ -->\n",
       "<g id=\"node5\" class=\"node\">\n",
       "<title>1572347489936+</title>\n",
       "<ellipse fill=\"none\" stroke=\"black\" cx=\"568.5\" cy=\"-72.5\" rx=\"27\" ry=\"18\"/>\n",
       "<text xml:space=\"preserve\" text-anchor=\"middle\" x=\"568.5\" y=\"-67.45\" font-family=\"Times New Roman,serif\" font-size=\"14.00\">+</text>\n",
       "</g>\n",
       "<!-- 1572368104976&#45;&gt;1572347489936+ -->\n",
       "<g id=\"edge6\" class=\"edge\">\n",
       "<title>1572368104976&#45;&gt;1572347489936+</title>\n",
       "<path fill=\"none\" stroke=\"black\" d=\"M505.89,-61.83C514.66,-63.35 523.15,-64.82 530.87,-66.15\"/>\n",
       "<polygon fill=\"black\" stroke=\"black\" points=\"530,-69.56 540.45,-67.81 531.19,-62.66 530,-69.56\"/>\n",
       "</g>\n",
       "<!-- 1572368104976* -->\n",
       "<g id=\"node2\" class=\"node\">\n",
       "<title>1572368104976*</title>\n",
       "<ellipse fill=\"none\" stroke=\"black\" cx=\"252.75\" cy=\"-45.5\" rx=\"27\" ry=\"18\"/>\n",
       "<text xml:space=\"preserve\" text-anchor=\"middle\" x=\"252.75\" y=\"-40.45\" font-family=\"Times New Roman,serif\" font-size=\"14.00\">*</text>\n",
       "</g>\n",
       "<!-- 1572368104976*&#45;&gt;1572368104976 -->\n",
       "<g id=\"edge1\" class=\"edge\">\n",
       "<title>1572368104976*&#45;&gt;1572368104976</title>\n",
       "<path fill=\"none\" stroke=\"black\" d=\"M280.19,-45.5C287.34,-45.5 295.53,-45.5 304.24,-45.5\"/>\n",
       "<polygon fill=\"black\" stroke=\"black\" points=\"304.01,-49 314.01,-45.5 304.01,-42 304.01,-49\"/>\n",
       "</g>\n",
       "<!-- 1572368151120 -->\n",
       "<g id=\"node3\" class=\"node\">\n",
       "<title>1572368151120</title>\n",
       "<polygon fill=\"none\" stroke=\"black\" points=\"0,-55.5 0,-91.5 189.75,-91.5 189.75,-55.5 0,-55.5\"/>\n",
       "<text xml:space=\"preserve\" text-anchor=\"middle\" x=\"11\" y=\"-68.7\" font-family=\"Times New Roman,serif\" font-size=\"14.00\">a</text>\n",
       "<polyline fill=\"none\" stroke=\"black\" points=\"22,-56 22,-91.5\"/>\n",
       "<text xml:space=\"preserve\" text-anchor=\"middle\" x=\"61.88\" y=\"-68.7\" font-family=\"Times New Roman,serif\" font-size=\"14.00\">data 1.6000</text>\n",
       "<polyline fill=\"none\" stroke=\"black\" points=\"101.75,-56 101.75,-91.5\"/>\n",
       "<text xml:space=\"preserve\" text-anchor=\"middle\" x=\"145.75\" y=\"-68.7\" font-family=\"Times New Roman,serif\" font-size=\"14.00\">grad 37.0016</text>\n",
       "</g>\n",
       "<!-- 1572368151120&#45;&gt;1572368104976* -->\n",
       "<g id=\"edge8\" class=\"edge\">\n",
       "<title>1572368151120&#45;&gt;1572368104976*</title>\n",
       "<path fill=\"none\" stroke=\"black\" d=\"M190.14,-56.57C198.91,-54.99 207.4,-53.47 215.12,-52.08\"/>\n",
       "<polygon fill=\"black\" stroke=\"black\" points=\"215.48,-55.57 224.7,-50.36 214.24,-48.68 215.48,-55.57\"/>\n",
       "</g>\n",
       "<!-- 1572347489936 -->\n",
       "<g id=\"node4\" class=\"node\">\n",
       "<title>1572347489936</title>\n",
       "<polygon fill=\"none\" stroke=\"black\" points=\"631.5,-54.5 631.5,-90.5 822,-90.5 822,-54.5 631.5,-54.5\"/>\n",
       "<text xml:space=\"preserve\" text-anchor=\"middle\" x=\"642.88\" y=\"-67.7\" font-family=\"Times New Roman,serif\" font-size=\"14.00\">d</text>\n",
       "<polyline fill=\"none\" stroke=\"black\" points=\"654.25,-55 654.25,-90.5\"/>\n",
       "<text xml:space=\"preserve\" text-anchor=\"middle\" x=\"697.5\" y=\"-67.7\" font-family=\"Times New Roman,serif\" font-size=\"14.00\">data 22.8320</text>\n",
       "<polyline fill=\"none\" stroke=\"black\" points=\"740.75,-55 740.75,-90.5\"/>\n",
       "<text xml:space=\"preserve\" text-anchor=\"middle\" x=\"781.38\" y=\"-67.7\" font-family=\"Times New Roman,serif\" font-size=\"14.00\">grad 3.7300</text>\n",
       "</g>\n",
       "<!-- 1572367207120* -->\n",
       "<g id=\"node7\" class=\"node\">\n",
       "<title>1572367207120*</title>\n",
       "<ellipse fill=\"none\" stroke=\"black\" cx=\"885\" cy=\"-99.5\" rx=\"27\" ry=\"18\"/>\n",
       "<text xml:space=\"preserve\" text-anchor=\"middle\" x=\"885\" y=\"-94.45\" font-family=\"Times New Roman,serif\" font-size=\"14.00\">*</text>\n",
       "</g>\n",
       "<!-- 1572347489936&#45;&gt;1572367207120* -->\n",
       "<g id=\"edge7\" class=\"edge\">\n",
       "<title>1572347489936&#45;&gt;1572367207120*</title>\n",
       "<path fill=\"none\" stroke=\"black\" d=\"M822.25,-88.83C831.04,-90.35 839.54,-91.82 847.28,-93.15\"/>\n",
       "<polygon fill=\"black\" stroke=\"black\" points=\"846.44,-96.56 856.89,-94.81 847.63,-89.66 846.44,-96.56\"/>\n",
       "</g>\n",
       "<!-- 1572347489936+&#45;&gt;1572347489936 -->\n",
       "<g id=\"edge2\" class=\"edge\">\n",
       "<title>1572347489936+&#45;&gt;1572347489936</title>\n",
       "<path fill=\"none\" stroke=\"black\" d=\"M595.65,-72.5C602.8,-72.5 611.01,-72.5 619.75,-72.5\"/>\n",
       "<polygon fill=\"black\" stroke=\"black\" points=\"619.56,-76 629.56,-72.5 619.56,-69 619.56,-76\"/>\n",
       "</g>\n",
       "<!-- 1572367207120 -->\n",
       "<g id=\"node6\" class=\"node\">\n",
       "<title>1572367207120</title>\n",
       "<polygon fill=\"none\" stroke=\"black\" points=\"948,-81.5 948,-117.5 1140,-117.5 1140,-81.5 948,-81.5\"/>\n",
       "<text xml:space=\"preserve\" text-anchor=\"middle\" x=\"960.12\" y=\"-94.7\" font-family=\"Times New Roman,serif\" font-size=\"14.00\">L</text>\n",
       "<polyline fill=\"none\" stroke=\"black\" points=\"972.25,-82 972.25,-117.5\"/>\n",
       "<text xml:space=\"preserve\" text-anchor=\"middle\" x=\"1015.5\" y=\"-94.7\" font-family=\"Times New Roman,serif\" font-size=\"14.00\">data 85.1634</text>\n",
       "<polyline fill=\"none\" stroke=\"black\" points=\"1058.75,-82 1058.75,-117.5\"/>\n",
       "<text xml:space=\"preserve\" text-anchor=\"middle\" x=\"1099.38\" y=\"-94.7\" font-family=\"Times New Roman,serif\" font-size=\"14.00\">grad 1.0000</text>\n",
       "</g>\n",
       "<!-- 1572367207120*&#45;&gt;1572367207120 -->\n",
       "<g id=\"edge3\" class=\"edge\">\n",
       "<title>1572367207120*&#45;&gt;1572367207120</title>\n",
       "<path fill=\"none\" stroke=\"black\" d=\"M912.28,-99.5C919.4,-99.5 927.57,-99.5 936.27,-99.5\"/>\n",
       "<polygon fill=\"black\" stroke=\"black\" points=\"936.03,-103 946.03,-99.5 936.03,-96 936.03,-103\"/>\n",
       "</g>\n",
       "<!-- 1572368141584 -->\n",
       "<g id=\"node8\" class=\"node\">\n",
       "<title>1572368141584</title>\n",
       "<polygon fill=\"none\" stroke=\"black\" points=\"319.12,-82.5 319.12,-118.5 502.12,-118.5 502.12,-82.5 319.12,-82.5\"/>\n",
       "<text xml:space=\"preserve\" text-anchor=\"middle\" x=\"330.12\" y=\"-95.7\" font-family=\"Times New Roman,serif\" font-size=\"14.00\">c</text>\n",
       "<polyline fill=\"none\" stroke=\"black\" points=\"341.12,-83 341.12,-118.5\"/>\n",
       "<text xml:space=\"preserve\" text-anchor=\"middle\" x=\"381\" y=\"-95.7\" font-family=\"Times New Roman,serif\" font-size=\"14.00\">data 6.9600</text>\n",
       "<polyline fill=\"none\" stroke=\"black\" points=\"420.88,-83 420.88,-118.5\"/>\n",
       "<text xml:space=\"preserve\" text-anchor=\"middle\" x=\"461.5\" y=\"-95.7\" font-family=\"Times New Roman,serif\" font-size=\"14.00\">grad 3.7300</text>\n",
       "</g>\n",
       "<!-- 1572368141584&#45;&gt;1572347489936+ -->\n",
       "<g id=\"edge9\" class=\"edge\">\n",
       "<title>1572368141584&#45;&gt;1572347489936+</title>\n",
       "<path fill=\"none\" stroke=\"black\" d=\"M502.3,-84.21C512.34,-82.41 522.08,-80.66 530.85,-79.08\"/>\n",
       "<polygon fill=\"black\" stroke=\"black\" points=\"531.42,-82.54 540.65,-77.32 530.19,-75.65 531.42,-82.54\"/>\n",
       "</g>\n",
       "<!-- 1572368144720 -->\n",
       "<g id=\"node9\" class=\"node\">\n",
       "<title>1572368144720</title>\n",
       "<polygon fill=\"none\" stroke=\"black\" points=\"632.62,-109.5 632.62,-145.5 820.88,-145.5 820.88,-109.5 632.62,-109.5\"/>\n",
       "<text xml:space=\"preserve\" text-anchor=\"middle\" x=\"642.88\" y=\"-122.7\" font-family=\"Times New Roman,serif\" font-size=\"14.00\">f</text>\n",
       "<polyline fill=\"none\" stroke=\"black\" points=\"653.12,-110 653.12,-145.5\"/>\n",
       "<text xml:space=\"preserve\" text-anchor=\"middle\" x=\"693\" y=\"-122.7\" font-family=\"Times New Roman,serif\" font-size=\"14.00\">data 3.7300</text>\n",
       "<polyline fill=\"none\" stroke=\"black\" points=\"732.88,-110 732.88,-145.5\"/>\n",
       "<text xml:space=\"preserve\" text-anchor=\"middle\" x=\"776.88\" y=\"-122.7\" font-family=\"Times New Roman,serif\" font-size=\"14.00\">grad 22.8320</text>\n",
       "</g>\n",
       "<!-- 1572368144720&#45;&gt;1572367207120* -->\n",
       "<g id=\"edge4\" class=\"edge\">\n",
       "<title>1572368144720&#45;&gt;1572367207120*</title>\n",
       "<path fill=\"none\" stroke=\"black\" d=\"M821.35,-110.73C830.52,-109.08 839.39,-107.49 847.44,-106.05\"/>\n",
       "<polygon fill=\"black\" stroke=\"black\" points=\"847.85,-109.53 857.08,-104.32 846.62,-102.64 847.85,-109.53\"/>\n",
       "</g>\n",
       "<!-- 1572368138704 -->\n",
       "<g id=\"node10\" class=\"node\">\n",
       "<title>1572368138704</title>\n",
       "<polygon fill=\"none\" stroke=\"black\" points=\"3,-0.5 3,-36.5 186.75,-36.5 186.75,-0.5 3,-0.5\"/>\n",
       "<text xml:space=\"preserve\" text-anchor=\"middle\" x=\"14.38\" y=\"-13.7\" font-family=\"Times New Roman,serif\" font-size=\"14.00\">b</text>\n",
       "<polyline fill=\"none\" stroke=\"black\" points=\"25.75,-1 25.75,-36.5\"/>\n",
       "<text xml:space=\"preserve\" text-anchor=\"middle\" x=\"65.62\" y=\"-13.7\" font-family=\"Times New Roman,serif\" font-size=\"14.00\">data 9.9200</text>\n",
       "<polyline fill=\"none\" stroke=\"black\" points=\"105.5,-1 105.5,-36.5\"/>\n",
       "<text xml:space=\"preserve\" text-anchor=\"middle\" x=\"146.12\" y=\"-13.7\" font-family=\"Times New Roman,serif\" font-size=\"14.00\">grad 5.9680</text>\n",
       "</g>\n",
       "<!-- 1572368138704&#45;&gt;1572368104976* -->\n",
       "<g id=\"edge5\" class=\"edge\">\n",
       "<title>1572368138704&#45;&gt;1572368104976*</title>\n",
       "<path fill=\"none\" stroke=\"black\" d=\"M187,-34.28C196.89,-36 206.49,-37.66 215.14,-39.16\"/>\n",
       "<polygon fill=\"black\" stroke=\"black\" points=\"214.34,-42.57 224.79,-40.83 215.53,-35.67 214.34,-42.57\"/>\n",
       "</g>\n",
       "</g>\n",
       "</svg>\n"
      ],
      "text/plain": [
       "<graphviz.graphs.Digraph at 0x16e1864ee10>"
      ]
     },
     "execution_count": 195,
     "metadata": {},
     "output_type": "execute_result"
    }
   ],
   "source": [
    "draw_dot(L)"
   ]
  },
  {
   "cell_type": "markdown",
   "id": "55ab9346-356a-43b2-88d9-31f7a6a81457",
   "metadata": {},
   "source": [
    "## Automate forward backward"
   ]
  },
  {
   "cell_type": "code",
   "execution_count": 198,
   "id": "8287336f-decf-48f1-a375-dc296c6e7ea4",
   "metadata": {},
   "outputs": [],
   "source": [
    "def forward(a,b,c,f,e,d,L):\n",
    "\n",
    "    e.data = (a * b).data\n",
    "    d.data = (e + c).data\n",
    "    L.data = (f * d).data\n",
    "\n",
    "    return \n",
    "\n",
    "    "
   ]
  },
  {
   "cell_type": "code",
   "execution_count": 197,
   "id": "46b3ff84-eab6-47b2-b65d-b2bc789e610b",
   "metadata": {},
   "outputs": [
    {
     "name": "stdout",
     "output_type": "stream",
     "text": [
      "{'data': 1.6, 'op': '', 'children': (), 'label': 'a', 'grad': 37.001599999999996}\n",
      "{'data': 6.96, 'op': '', 'children': (), 'label': 'c', 'grad': 3.73}\n",
      "{'data': 15.872, 'op': '*', 'children': (Value(data=1.6), Value(data=9.92)), 'label': 'e', 'grad': 3.73}\n",
      "{'data': 22.832, 'op': '+', 'children': (Value(data=15.872), Value(data=6.96)), 'label': 'd', 'grad': 3.73}\n",
      "{'data': 15.872, 'op': '*', 'children': (Value(data=1.6), Value(data=9.92)), 'label': 'e', 'grad': 3.73}\n"
     ]
    }
   ],
   "source": [
    "forward(a,b,c,d,e,d,L)"
   ]
  },
  {
   "cell_type": "code",
   "execution_count": null,
   "id": "1525b1c9-7931-4a7c-9396-896d62cf5359",
   "metadata": {},
   "outputs": [],
   "source": [
    "def update():\n",
    "    a.data -= 0.01 * a.grad\n",
    "    b.data -= 0.01 * b.grad\n",
    "    c.data -= 0.01 * c.grad\n",
    "    f.data -= 0.01 * f.grad\n",
    "    return "
   ]
  },
  {
   "cell_type": "code",
   "execution_count": null,
   "id": "06fc9b1d-1b7c-41bc-8243-8da55ceafb1e",
   "metadata": {},
   "outputs": [],
   "source": [
    "a = Val(2) ; a.label = \"a\"\n",
    "b = Val(10) ; b.label = \"b\"\n",
    "c = Val(7) ; c.label = \"c\"\n",
    "f = Val(4) ; f.label = \"f\"\n",
    "\n",
    "\n",
    "e = a*b ; e.label = \"e\"\n",
    "d = e + c ; d.label = \"d\"\n",
    "L = f * d ; L.label = \"L\"\n",
    "\n",
    "\n",
    "max_iter = 20\n",
    "\n",
    "\n",
    "for i in range(max_iter):\n",
    "\n",
    "    forward()"
   ]
  }
 ],
 "metadata": {
  "kernelspec": {
   "display_name": "Python (image-proc)",
   "language": "python",
   "name": "image-proc"
  },
  "language_info": {
   "codemirror_mode": {
    "name": "ipython",
    "version": 3
   },
   "file_extension": ".py",
   "mimetype": "text/x-python",
   "name": "python",
   "nbconvert_exporter": "python",
   "pygments_lexer": "ipython3",
   "version": "3.11.13"
  }
 },
 "nbformat": 4,
 "nbformat_minor": 5
}
