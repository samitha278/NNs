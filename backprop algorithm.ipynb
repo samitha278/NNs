{
 "cells": [
  {
   "cell_type": "code",
   "execution_count": 1,
   "id": "84a57b3b-5f2c-4d30-a3ba-56c490eccdfd",
   "metadata": {},
   "outputs": [],
   "source": [
    "import math\n",
    "import numpy as np\n",
    "import matplotlib.pyplot as plt\n",
    "%matplotlib inline\n",
    "\n",
    "\n",
    "import os\n",
    "os.environ[\"PATH\"] += os.pathsep + r\"C:\\Program Files\\Graphviz\\bin\"\n"
   ]
  },
  {
   "cell_type": "code",
   "execution_count": 274,
   "id": "94d0faab-8e40-4b7f-8681-c04789bf84c7",
   "metadata": {},
   "outputs": [],
   "source": [
    "a = 2\n",
    "b = 10\n",
    "c = 7\n",
    "f = 4\n"
   ]
  },
  {
   "cell_type": "code",
   "execution_count": 275,
   "id": "287c8676-9ec5-46dd-98ea-c6912b70bee8",
   "metadata": {},
   "outputs": [],
   "source": [
    "e = a * b\n",
    "d = e + c\n",
    "L = f * d"
   ]
  },
  {
   "cell_type": "code",
   "execution_count": 276,
   "id": "bd4d6a54-6697-48d4-8a3e-cb8328f2c207",
   "metadata": {},
   "outputs": [
    {
     "data": {
      "text/plain": [
       "108"
      ]
     },
     "execution_count": 276,
     "metadata": {},
     "output_type": "execute_result"
    }
   ],
   "source": [
    "L"
   ]
  },
  {
   "cell_type": "code",
   "execution_count": 277,
   "id": "0e27748a-624e-4b9b-a2e5-f36d790b48ad",
   "metadata": {},
   "outputs": [],
   "source": [
    "def manual_gradient():\n",
    "\n",
    "    a = 2\n",
    "    b = 10\n",
    "    c = 7\n",
    "    f = 4\n",
    "\n",
    "\n",
    "    h = 0.01\n",
    "    \n",
    "    e = a * b\n",
    "    d = e + c\n",
    "    L = f * d\n",
    "\n",
    "    \n",
    "    a += h\n",
    "\n",
    "    e = a * b\n",
    "    d = e + c\n",
    "    L_ = f * d \n",
    "\n",
    "    dL_df = (L_ - L) / h     #partial derivative\n",
    "\n",
    "    return dL_df\n",
    "    \n",
    "    "
   ]
  },
  {
   "cell_type": "code",
   "execution_count": 278,
   "id": "5a70b69f-bc71-49b5-b9ab-e7850408f318",
   "metadata": {},
   "outputs": [
    {
     "data": {
      "text/plain": [
       "39.99999999999915"
      ]
     },
     "execution_count": 278,
     "metadata": {},
     "output_type": "execute_result"
    }
   ],
   "source": [
    "manual_gradient()"
   ]
  },
  {
   "cell_type": "markdown",
   "id": "4867f378-97be-4cf9-a12e-1416ee988bdd",
   "metadata": {},
   "source": [
    "## Value class"
   ]
  },
  {
   "cell_type": "code",
   "execution_count": 2,
   "id": "c7dafcc5-d76c-4920-b7d1-09216e745e4d",
   "metadata": {},
   "outputs": [],
   "source": [
    "class Val():\n",
    "\n",
    "\n",
    "    def __init__(self,data,children = () , op=\"\",label = \"\" ):\n",
    "\n",
    "        self.data = data\n",
    "        self.op = op\n",
    "        self.children = children\n",
    "        self.label = label\n",
    "        self.grad = 0\n",
    "\n",
    "\n",
    "\n",
    "    def __repr__(self):\n",
    "        return f\"Value(data={self.data})\"\n",
    "\n",
    "\n",
    "    \n",
    "    def __add__(self,other):\n",
    "        out =  Val((self.data + other.data),(self,other), \"+\")\n",
    "\n",
    "\n",
    "\n",
    "        def backward():\n",
    "            self.grad = 1* out.grad\n",
    "            other.grad = 1* out.grad\n",
    "            \n",
    "\n",
    "        return out\n",
    "\n",
    "\n",
    "    def __mul__(self,other):\n",
    "        out = Val((self.data*other.data),(self,other),\"*\")\n",
    "\n",
    "        def backward():\n",
    "            self.grad = other.grad * out.grad\n",
    "            other.grad = self.grad * out.grad\n",
    "\n",
    "\n",
    "        return out\n",
    "\n",
    "\n",
    "\n",
    "    \n",
    "\n",
    "        \n",
    "\n",
    "        \n",
    "\n",
    "\n",
    "    \n",
    "\n",
    "\n",
    "\n",
    "\n",
    "\n",
    "\n",
    "\n",
    "    "
   ]
  },
  {
   "cell_type": "code",
   "execution_count": 280,
   "id": "1a9fb839-fb27-4e6b-ae7a-0357ab3eedd5",
   "metadata": {},
   "outputs": [],
   "source": [
    "a = Val(2) ; a.label = \"a\"\n",
    "b = Val(10) ; b.label = \"b\"\n",
    "\n",
    "c = Val(7) ; c.label = \"c\"\n",
    "f = Val(4) ; f.label = \"f\"\n"
   ]
  },
  {
   "cell_type": "code",
   "execution_count": 281,
   "id": "197087ce-de01-4b80-9b90-f8c12e9b2243",
   "metadata": {},
   "outputs": [
    {
     "data": {
      "text/plain": [
       "'e'"
      ]
     },
     "execution_count": 281,
     "metadata": {},
     "output_type": "execute_result"
    }
   ],
   "source": [
    "e = a*b ; e.label = \"e\"\n",
    "e.label"
   ]
  },
  {
   "cell_type": "code",
   "execution_count": 282,
   "id": "b31bcc18-8e58-41b4-a57b-ccb5fd3a12f2",
   "metadata": {},
   "outputs": [],
   "source": [
    "d = e + c ; d.label = \"d\""
   ]
  },
  {
   "cell_type": "code",
   "execution_count": 283,
   "id": "2f827bd3-1de3-4adb-ae3d-7fe934f36c04",
   "metadata": {},
   "outputs": [],
   "source": [
    "L = f * d ; L.label = \"L\""
   ]
  },
  {
   "cell_type": "code",
   "execution_count": 284,
   "id": "88de04bf-ab78-4311-81ff-36a82981c4a7",
   "metadata": {},
   "outputs": [
    {
     "name": "stdout",
     "output_type": "stream",
     "text": [
      "{'data': 2, 'op': '', 'children': (), 'label': 'a', 'grad': 0}\n"
     ]
    }
   ],
   "source": [
    "print(a.__dict__)"
   ]
  },
  {
   "cell_type": "code",
   "execution_count": 285,
   "id": "52d936fe-aba2-4334-b4d2-1999f8725c46",
   "metadata": {},
   "outputs": [
    {
     "name": "stdout",
     "output_type": "stream",
     "text": [
      "{'data': 108, 'op': '*', 'children': (Value(data=4), Value(data=27)), 'label': 'L', 'grad': 0}\n"
     ]
    }
   ],
   "source": [
    "print(L.__dict__)"
   ]
  },
  {
   "cell_type": "code",
   "execution_count": 286,
   "id": "eddcb660-751f-42ec-bc4a-8ee9105ac675",
   "metadata": {},
   "outputs": [
    {
     "name": "stdout",
     "output_type": "stream",
     "text": [
      "{'data': 27, 'op': '+', 'children': (Value(data=20), Value(data=7)), 'label': 'd', 'grad': 0}\n"
     ]
    }
   ],
   "source": [
    "print(L.children[1].__dict__)"
   ]
  },
  {
   "cell_type": "code",
   "execution_count": 287,
   "id": "3f32e058-c1e8-4044-bf4d-7627368dc450",
   "metadata": {},
   "outputs": [
    {
     "name": "stdout",
     "output_type": "stream",
     "text": [
      "{'data': 20, 'op': '*', 'children': (Value(data=2), Value(data=10)), 'label': 'e', 'grad': 0}\n"
     ]
    }
   ],
   "source": [
    "print(e.__dict__)"
   ]
  },
  {
   "cell_type": "code",
   "execution_count": 3,
   "id": "875fa433-987c-4635-8ab9-a8b1e165d0aa",
   "metadata": {},
   "outputs": [],
   "source": [
    "from graphviz import Digraph\n",
    "\n",
    "def trace(root):\n",
    "  # builds a set of all nodes and edges in a graph\n",
    "  nodes, edges = set(), set()\n",
    "  def build(v):\n",
    "    if v not in nodes:\n",
    "      nodes.add(v)\n",
    "      for child in v.children:\n",
    "        edges.add((child, v))\n",
    "        build(child)\n",
    "  build(root)\n",
    "  return nodes, edges\n",
    "\n",
    "def draw_dot(root):\n",
    "  dot = Digraph(format='svg', graph_attr={'rankdir': 'LR'}) # LR = left to right\n",
    "  \n",
    "  nodes, edges = trace(root)\n",
    "  for n in nodes:\n",
    "    uid = str(id(n))\n",
    "    # for any value in the graph, create a rectangular ('record') node for it\n",
    "    dot.node(name = uid, label = \"{ %s | data %.4f | grad %.4f }\" % (n.label, n.data, n.grad), shape='record')\n",
    "    if n.op:\n",
    "      # if this value is a result of some operation, create an op node for it\n",
    "      dot.node(name = uid + n.op, label = n.op)\n",
    "      # and connect this node to it\n",
    "      dot.edge(uid + n.op, uid)\n",
    "\n",
    "  for n1, n2 in edges:\n",
    "    # connect n1 to the op node of n2\n",
    "    dot.edge(str(id(n1)), str(id(n2)) + n2.op)\n",
    "\n",
    "  return dot"
   ]
  },
  {
   "cell_type": "code",
   "execution_count": 289,
   "id": "5f07afde-ccb4-4425-9bdc-71e3726dca9e",
   "metadata": {},
   "outputs": [
    {
     "data": {
      "image/svg+xml": [
       "<?xml version=\"1.0\" encoding=\"UTF-8\" standalone=\"no\"?>\n",
       "<!DOCTYPE svg PUBLIC \"-//W3C//DTD SVG 1.1//EN\"\n",
       " \"http://www.w3.org/Graphics/SVG/1.1/DTD/svg11.dtd\">\n",
       "<!-- Generated by graphviz version 13.1.2 (20250808.2320)\n",
       " -->\n",
       "<!-- Pages: 1 -->\n",
       "<svg width=\"1156pt\" height=\"156pt\"\n",
       " viewBox=\"0.00 0.00 1156.00 156.00\" xmlns=\"http://www.w3.org/2000/svg\" xmlns:xlink=\"http://www.w3.org/1999/xlink\">\n",
       "<g id=\"graph0\" class=\"graph\" transform=\"scale(1 1) rotate(0) translate(4 152)\">\n",
       "<polygon fill=\"white\" stroke=\"none\" points=\"-4,4 -4,-152 1151.5,-152 1151.5,4 -4,4\"/>\n",
       "<!-- 1572369117264 -->\n",
       "<g id=\"node1\" class=\"node\">\n",
       "<title>1572369117264</title>\n",
       "<polygon fill=\"none\" stroke=\"black\" points=\"3.75,-111.5 3.75,-147.5 186.75,-147.5 186.75,-111.5 3.75,-111.5\"/>\n",
       "<text xml:space=\"preserve\" text-anchor=\"middle\" x=\"14.75\" y=\"-124.7\" font-family=\"Times New Roman,serif\" font-size=\"14.00\">a</text>\n",
       "<polyline fill=\"none\" stroke=\"black\" points=\"25.75,-112 25.75,-147.5\"/>\n",
       "<text xml:space=\"preserve\" text-anchor=\"middle\" x=\"65.62\" y=\"-124.7\" font-family=\"Times New Roman,serif\" font-size=\"14.00\">data 2.0000</text>\n",
       "<polyline fill=\"none\" stroke=\"black\" points=\"105.5,-112 105.5,-147.5\"/>\n",
       "<text xml:space=\"preserve\" text-anchor=\"middle\" x=\"146.12\" y=\"-124.7\" font-family=\"Times New Roman,serif\" font-size=\"14.00\">grad 0.0000</text>\n",
       "</g>\n",
       "<!-- 1572346854864* -->\n",
       "<g id=\"node10\" class=\"node\">\n",
       "<title>1572346854864*</title>\n",
       "<ellipse fill=\"none\" stroke=\"black\" cx=\"253.5\" cy=\"-101.5\" rx=\"27\" ry=\"18\"/>\n",
       "<text xml:space=\"preserve\" text-anchor=\"middle\" x=\"253.5\" y=\"-96.45\" font-family=\"Times New Roman,serif\" font-size=\"14.00\">*</text>\n",
       "</g>\n",
       "<!-- 1572369117264&#45;&gt;1572346854864* -->\n",
       "<g id=\"edge5\" class=\"edge\">\n",
       "<title>1572369117264&#45;&gt;1572346854864*</title>\n",
       "<path fill=\"none\" stroke=\"black\" d=\"M187.14,-113.21C197.2,-111.41 206.98,-109.66 215.76,-108.08\"/>\n",
       "<polygon fill=\"black\" stroke=\"black\" points=\"216.36,-111.53 225.59,-106.32 215.12,-104.64 216.36,-111.53\"/>\n",
       "</g>\n",
       "<!-- 1572369106512 -->\n",
       "<g id=\"node2\" class=\"node\">\n",
       "<title>1572369106512</title>\n",
       "<polygon fill=\"none\" stroke=\"black\" points=\"632.25,-55.5 632.25,-91.5 822.75,-91.5 822.75,-55.5 632.25,-55.5\"/>\n",
       "<text xml:space=\"preserve\" text-anchor=\"middle\" x=\"643.62\" y=\"-68.7\" font-family=\"Times New Roman,serif\" font-size=\"14.00\">d</text>\n",
       "<polyline fill=\"none\" stroke=\"black\" points=\"655,-56 655,-91.5\"/>\n",
       "<text xml:space=\"preserve\" text-anchor=\"middle\" x=\"698.25\" y=\"-68.7\" font-family=\"Times New Roman,serif\" font-size=\"14.00\">data 27.0000</text>\n",
       "<polyline fill=\"none\" stroke=\"black\" points=\"741.5,-56 741.5,-91.5\"/>\n",
       "<text xml:space=\"preserve\" text-anchor=\"middle\" x=\"782.12\" y=\"-68.7\" font-family=\"Times New Roman,serif\" font-size=\"14.00\">grad 0.0000</text>\n",
       "</g>\n",
       "<!-- 1572368089360* -->\n",
       "<g id=\"node6\" class=\"node\">\n",
       "<title>1572368089360*</title>\n",
       "<ellipse fill=\"none\" stroke=\"black\" cx=\"885.75\" cy=\"-45.5\" rx=\"27\" ry=\"18\"/>\n",
       "<text xml:space=\"preserve\" text-anchor=\"middle\" x=\"885.75\" y=\"-40.45\" font-family=\"Times New Roman,serif\" font-size=\"14.00\">*</text>\n",
       "</g>\n",
       "<!-- 1572369106512&#45;&gt;1572368089360* -->\n",
       "<g id=\"edge8\" class=\"edge\">\n",
       "<title>1572369106512&#45;&gt;1572368089360*</title>\n",
       "<path fill=\"none\" stroke=\"black\" d=\"M823,-56.57C831.79,-54.99 840.29,-53.47 848.03,-52.08\"/>\n",
       "<polygon fill=\"black\" stroke=\"black\" points=\"848.41,-55.57 857.64,-50.36 847.18,-48.68 848.41,-55.57\"/>\n",
       "</g>\n",
       "<!-- 1572369106512+ -->\n",
       "<g id=\"node3\" class=\"node\">\n",
       "<title>1572369106512+</title>\n",
       "<ellipse fill=\"none\" stroke=\"black\" cx=\"569.25\" cy=\"-73.5\" rx=\"27\" ry=\"18\"/>\n",
       "<text xml:space=\"preserve\" text-anchor=\"middle\" x=\"569.25\" y=\"-68.45\" font-family=\"Times New Roman,serif\" font-size=\"14.00\">+</text>\n",
       "</g>\n",
       "<!-- 1572369106512+&#45;&gt;1572369106512 -->\n",
       "<g id=\"edge1\" class=\"edge\">\n",
       "<title>1572369106512+&#45;&gt;1572369106512</title>\n",
       "<path fill=\"none\" stroke=\"black\" d=\"M596.4,-73.5C603.55,-73.5 611.76,-73.5 620.5,-73.5\"/>\n",
       "<polygon fill=\"black\" stroke=\"black\" points=\"620.31,-77 630.31,-73.5 620.31,-70 620.31,-77\"/>\n",
       "</g>\n",
       "<!-- 1572369119952 -->\n",
       "<g id=\"node4\" class=\"node\">\n",
       "<title>1572369119952</title>\n",
       "<polygon fill=\"none\" stroke=\"black\" points=\"636.75,-0.5 636.75,-36.5 818.25,-36.5 818.25,-0.5 636.75,-0.5\"/>\n",
       "<text xml:space=\"preserve\" text-anchor=\"middle\" x=\"647\" y=\"-13.7\" font-family=\"Times New Roman,serif\" font-size=\"14.00\">f</text>\n",
       "<polyline fill=\"none\" stroke=\"black\" points=\"657.25,-1 657.25,-36.5\"/>\n",
       "<text xml:space=\"preserve\" text-anchor=\"middle\" x=\"697.12\" y=\"-13.7\" font-family=\"Times New Roman,serif\" font-size=\"14.00\">data 4.0000</text>\n",
       "<polyline fill=\"none\" stroke=\"black\" points=\"737,-1 737,-36.5\"/>\n",
       "<text xml:space=\"preserve\" text-anchor=\"middle\" x=\"777.62\" y=\"-13.7\" font-family=\"Times New Roman,serif\" font-size=\"14.00\">grad 0.0000</text>\n",
       "</g>\n",
       "<!-- 1572369119952&#45;&gt;1572368089360* -->\n",
       "<g id=\"edge9\" class=\"edge\">\n",
       "<title>1572369119952&#45;&gt;1572368089360*</title>\n",
       "<path fill=\"none\" stroke=\"black\" d=\"M818.49,-34.05C828.86,-35.84 838.95,-37.59 848,-39.15\"/>\n",
       "<polygon fill=\"black\" stroke=\"black\" points=\"847.3,-42.58 857.75,-40.83 848.49,-35.68 847.3,-42.58\"/>\n",
       "</g>\n",
       "<!-- 1572368089360 -->\n",
       "<g id=\"node5\" class=\"node\">\n",
       "<title>1572368089360</title>\n",
       "<polygon fill=\"none\" stroke=\"black\" points=\"948.75,-27.5 948.75,-63.5 1147.5,-63.5 1147.5,-27.5 948.75,-27.5\"/>\n",
       "<text xml:space=\"preserve\" text-anchor=\"middle\" x=\"960.88\" y=\"-40.7\" font-family=\"Times New Roman,serif\" font-size=\"14.00\">L</text>\n",
       "<polyline fill=\"none\" stroke=\"black\" points=\"973,-28 973,-63.5\"/>\n",
       "<text xml:space=\"preserve\" text-anchor=\"middle\" x=\"1019.62\" y=\"-40.7\" font-family=\"Times New Roman,serif\" font-size=\"14.00\">data 108.0000</text>\n",
       "<polyline fill=\"none\" stroke=\"black\" points=\"1066.25,-28 1066.25,-63.5\"/>\n",
       "<text xml:space=\"preserve\" text-anchor=\"middle\" x=\"1106.88\" y=\"-40.7\" font-family=\"Times New Roman,serif\" font-size=\"14.00\">grad 0.0000</text>\n",
       "</g>\n",
       "<!-- 1572368089360*&#45;&gt;1572368089360 -->\n",
       "<g id=\"edge2\" class=\"edge\">\n",
       "<title>1572368089360*&#45;&gt;1572368089360</title>\n",
       "<path fill=\"none\" stroke=\"black\" d=\"M913.23,-45.5C920.36,-45.5 928.54,-45.5 937.27,-45.5\"/>\n",
       "<polygon fill=\"black\" stroke=\"black\" points=\"937.06,-49 947.06,-45.5 937.06,-42 937.06,-49\"/>\n",
       "</g>\n",
       "<!-- 1572369105168 -->\n",
       "<g id=\"node7\" class=\"node\">\n",
       "<title>1572369105168</title>\n",
       "<polygon fill=\"none\" stroke=\"black\" points=\"319.88,-28.5 319.88,-64.5 502.88,-64.5 502.88,-28.5 319.88,-28.5\"/>\n",
       "<text xml:space=\"preserve\" text-anchor=\"middle\" x=\"330.88\" y=\"-41.7\" font-family=\"Times New Roman,serif\" font-size=\"14.00\">c</text>\n",
       "<polyline fill=\"none\" stroke=\"black\" points=\"341.88,-29 341.88,-64.5\"/>\n",
       "<text xml:space=\"preserve\" text-anchor=\"middle\" x=\"381.75\" y=\"-41.7\" font-family=\"Times New Roman,serif\" font-size=\"14.00\">data 7.0000</text>\n",
       "<polyline fill=\"none\" stroke=\"black\" points=\"421.62,-29 421.62,-64.5\"/>\n",
       "<text xml:space=\"preserve\" text-anchor=\"middle\" x=\"462.25\" y=\"-41.7\" font-family=\"Times New Roman,serif\" font-size=\"14.00\">grad 0.0000</text>\n",
       "</g>\n",
       "<!-- 1572369105168&#45;&gt;1572369106512+ -->\n",
       "<g id=\"edge4\" class=\"edge\">\n",
       "<title>1572369105168&#45;&gt;1572369106512+</title>\n",
       "<path fill=\"none\" stroke=\"black\" d=\"M503.05,-62.21C512.99,-63.93 522.66,-65.6 531.36,-67.11\"/>\n",
       "<polygon fill=\"black\" stroke=\"black\" points=\"530.63,-70.54 541.08,-68.79 531.83,-63.64 530.63,-70.54\"/>\n",
       "</g>\n",
       "<!-- 1572369116496 -->\n",
       "<g id=\"node8\" class=\"node\">\n",
       "<title>1572369116496</title>\n",
       "<polygon fill=\"none\" stroke=\"black\" points=\"0,-56.5 0,-92.5 190.5,-92.5 190.5,-56.5 0,-56.5\"/>\n",
       "<text xml:space=\"preserve\" text-anchor=\"middle\" x=\"11.38\" y=\"-69.7\" font-family=\"Times New Roman,serif\" font-size=\"14.00\">b</text>\n",
       "<polyline fill=\"none\" stroke=\"black\" points=\"22.75,-57 22.75,-92.5\"/>\n",
       "<text xml:space=\"preserve\" text-anchor=\"middle\" x=\"66\" y=\"-69.7\" font-family=\"Times New Roman,serif\" font-size=\"14.00\">data 10.0000</text>\n",
       "<polyline fill=\"none\" stroke=\"black\" points=\"109.25,-57 109.25,-92.5\"/>\n",
       "<text xml:space=\"preserve\" text-anchor=\"middle\" x=\"149.88\" y=\"-69.7\" font-family=\"Times New Roman,serif\" font-size=\"14.00\">grad 0.0000</text>\n",
       "</g>\n",
       "<!-- 1572369116496&#45;&gt;1572346854864* -->\n",
       "<g id=\"edge6\" class=\"edge\">\n",
       "<title>1572369116496&#45;&gt;1572346854864*</title>\n",
       "<path fill=\"none\" stroke=\"black\" d=\"M190.75,-90.83C199.54,-92.35 208.04,-93.82 215.78,-95.15\"/>\n",
       "<polygon fill=\"black\" stroke=\"black\" points=\"214.94,-98.56 225.39,-96.81 216.13,-91.66 214.94,-98.56\"/>\n",
       "</g>\n",
       "<!-- 1572346854864 -->\n",
       "<g id=\"node9\" class=\"node\">\n",
       "<title>1572346854864</title>\n",
       "<polygon fill=\"none\" stroke=\"black\" points=\"316.5,-83.5 316.5,-119.5 506.25,-119.5 506.25,-83.5 316.5,-83.5\"/>\n",
       "<text xml:space=\"preserve\" text-anchor=\"middle\" x=\"327.5\" y=\"-96.7\" font-family=\"Times New Roman,serif\" font-size=\"14.00\">e</text>\n",
       "<polyline fill=\"none\" stroke=\"black\" points=\"338.5,-84 338.5,-119.5\"/>\n",
       "<text xml:space=\"preserve\" text-anchor=\"middle\" x=\"381.75\" y=\"-96.7\" font-family=\"Times New Roman,serif\" font-size=\"14.00\">data 20.0000</text>\n",
       "<polyline fill=\"none\" stroke=\"black\" points=\"425,-84 425,-119.5\"/>\n",
       "<text xml:space=\"preserve\" text-anchor=\"middle\" x=\"465.62\" y=\"-96.7\" font-family=\"Times New Roman,serif\" font-size=\"14.00\">grad 0.0000</text>\n",
       "</g>\n",
       "<!-- 1572346854864&#45;&gt;1572369106512+ -->\n",
       "<g id=\"edge7\" class=\"edge\">\n",
       "<title>1572346854864&#45;&gt;1572369106512+</title>\n",
       "<path fill=\"none\" stroke=\"black\" d=\"M506.64,-84.57C515.41,-82.99 523.9,-81.47 531.62,-80.08\"/>\n",
       "<polygon fill=\"black\" stroke=\"black\" points=\"531.98,-83.57 541.2,-78.36 530.74,-76.68 531.98,-83.57\"/>\n",
       "</g>\n",
       "<!-- 1572346854864*&#45;&gt;1572346854864 -->\n",
       "<g id=\"edge3\" class=\"edge\">\n",
       "<title>1572346854864*&#45;&gt;1572346854864</title>\n",
       "<path fill=\"none\" stroke=\"black\" d=\"M280.94,-101.5C288.09,-101.5 296.28,-101.5 304.99,-101.5\"/>\n",
       "<polygon fill=\"black\" stroke=\"black\" points=\"304.76,-105 314.76,-101.5 304.76,-98 304.76,-105\"/>\n",
       "</g>\n",
       "</g>\n",
       "</svg>\n"
      ],
      "text/plain": [
       "<graphviz.graphs.Digraph at 0x16e1737a350>"
      ]
     },
     "execution_count": 289,
     "metadata": {},
     "output_type": "execute_result"
    }
   ],
   "source": [
    "draw_dot(L)"
   ]
  },
  {
   "cell_type": "code",
   "execution_count": 290,
   "id": "172e3450-2a64-45d2-af41-082c0d38ce0c",
   "metadata": {},
   "outputs": [
    {
     "data": {
      "text/plain": [
       "()"
      ]
     },
     "execution_count": 290,
     "metadata": {},
     "output_type": "execute_result"
    }
   ],
   "source": [
    "c.children"
   ]
  },
  {
   "cell_type": "code",
   "execution_count": 291,
   "id": "41b6992d-ea3c-4197-9464-97d315eaacd4",
   "metadata": {},
   "outputs": [],
   "source": [
    "def chain(root,grad = 1):\n",
    "\n",
    "\n",
    "    if root.children == ():\n",
    "        return \n",
    "\n",
    "    root.grad = grad\n",
    "    \n",
    "    left = root.children[0]\n",
    "    right = root.children[1]\n",
    "\n",
    "    print(left,right)\n",
    "\n",
    "    if root.op == \"+\":\n",
    "        left.grad = root.grad\n",
    "        right.grad = root.grad\n",
    "        print(\"+\",left.grad,right.grad)\n",
    "    else:\n",
    "        left.grad = right.data *root.grad\n",
    "        right.grad = left.data *root.grad\n",
    "        print(\"*\",left.grad,right.grad)\n",
    "\n",
    "    chain(left,left.grad)\n",
    "    chain(right,right.grad)\n",
    "\n",
    "    return\n",
    "\n",
    "    \n",
    "    "
   ]
  },
  {
   "cell_type": "code",
   "execution_count": null,
   "id": "fabfd253-a508-4270-b225-17417c46aa4f",
   "metadata": {},
   "outputs": [],
   "source": [
    "chain(L)"
   ]
  },
  {
   "cell_type": "code",
   "execution_count": 293,
   "id": "673a7d77-b54d-4336-9534-e023b465fc71",
   "metadata": {},
   "outputs": [
    {
     "data": {
      "image/svg+xml": [
       "<?xml version=\"1.0\" encoding=\"UTF-8\" standalone=\"no\"?>\n",
       "<!DOCTYPE svg PUBLIC \"-//W3C//DTD SVG 1.1//EN\"\n",
       " \"http://www.w3.org/Graphics/SVG/1.1/DTD/svg11.dtd\">\n",
       "<!-- Generated by graphviz version 13.1.2 (20250808.2320)\n",
       " -->\n",
       "<!-- Pages: 1 -->\n",
       "<svg width=\"1156pt\" height=\"156pt\"\n",
       " viewBox=\"0.00 0.00 1156.00 156.00\" xmlns=\"http://www.w3.org/2000/svg\" xmlns:xlink=\"http://www.w3.org/1999/xlink\">\n",
       "<g id=\"graph0\" class=\"graph\" transform=\"scale(1 1) rotate(0) translate(4 152)\">\n",
       "<polygon fill=\"white\" stroke=\"none\" points=\"-4,4 -4,-152 1151.5,-152 1151.5,4 -4,4\"/>\n",
       "<!-- 1572369117264 -->\n",
       "<g id=\"node1\" class=\"node\">\n",
       "<title>1572369117264</title>\n",
       "<polygon fill=\"none\" stroke=\"black\" points=\"0.38,-111.5 0.38,-147.5 190.12,-147.5 190.12,-111.5 0.38,-111.5\"/>\n",
       "<text xml:space=\"preserve\" text-anchor=\"middle\" x=\"11.38\" y=\"-124.7\" font-family=\"Times New Roman,serif\" font-size=\"14.00\">a</text>\n",
       "<polyline fill=\"none\" stroke=\"black\" points=\"22.38,-112 22.38,-147.5\"/>\n",
       "<text xml:space=\"preserve\" text-anchor=\"middle\" x=\"62.25\" y=\"-124.7\" font-family=\"Times New Roman,serif\" font-size=\"14.00\">data 2.0000</text>\n",
       "<polyline fill=\"none\" stroke=\"black\" points=\"102.12,-112 102.12,-147.5\"/>\n",
       "<text xml:space=\"preserve\" text-anchor=\"middle\" x=\"146.12\" y=\"-124.7\" font-family=\"Times New Roman,serif\" font-size=\"14.00\">grad 40.0000</text>\n",
       "</g>\n",
       "<!-- 1572346854864* -->\n",
       "<g id=\"node10\" class=\"node\">\n",
       "<title>1572346854864*</title>\n",
       "<ellipse fill=\"none\" stroke=\"black\" cx=\"253.5\" cy=\"-101.5\" rx=\"27\" ry=\"18\"/>\n",
       "<text xml:space=\"preserve\" text-anchor=\"middle\" x=\"253.5\" y=\"-96.45\" font-family=\"Times New Roman,serif\" font-size=\"14.00\">*</text>\n",
       "</g>\n",
       "<!-- 1572369117264&#45;&gt;1572346854864* -->\n",
       "<g id=\"edge5\" class=\"edge\">\n",
       "<title>1572369117264&#45;&gt;1572346854864*</title>\n",
       "<path fill=\"none\" stroke=\"black\" d=\"M190.3,-112.65C199.22,-111.05 207.86,-109.5 215.72,-108.09\"/>\n",
       "<polygon fill=\"black\" stroke=\"black\" points=\"216.26,-111.55 225.48,-106.34 215.02,-104.66 216.26,-111.55\"/>\n",
       "</g>\n",
       "<!-- 1572369106512 -->\n",
       "<g id=\"node2\" class=\"node\">\n",
       "<title>1572369106512</title>\n",
       "<polygon fill=\"none\" stroke=\"black\" points=\"632.25,-55.5 632.25,-91.5 822.75,-91.5 822.75,-55.5 632.25,-55.5\"/>\n",
       "<text xml:space=\"preserve\" text-anchor=\"middle\" x=\"643.62\" y=\"-68.7\" font-family=\"Times New Roman,serif\" font-size=\"14.00\">d</text>\n",
       "<polyline fill=\"none\" stroke=\"black\" points=\"655,-56 655,-91.5\"/>\n",
       "<text xml:space=\"preserve\" text-anchor=\"middle\" x=\"698.25\" y=\"-68.7\" font-family=\"Times New Roman,serif\" font-size=\"14.00\">data 27.0000</text>\n",
       "<polyline fill=\"none\" stroke=\"black\" points=\"741.5,-56 741.5,-91.5\"/>\n",
       "<text xml:space=\"preserve\" text-anchor=\"middle\" x=\"782.12\" y=\"-68.7\" font-family=\"Times New Roman,serif\" font-size=\"14.00\">grad 4.0000</text>\n",
       "</g>\n",
       "<!-- 1572368089360* -->\n",
       "<g id=\"node6\" class=\"node\">\n",
       "<title>1572368089360*</title>\n",
       "<ellipse fill=\"none\" stroke=\"black\" cx=\"885.75\" cy=\"-45.5\" rx=\"27\" ry=\"18\"/>\n",
       "<text xml:space=\"preserve\" text-anchor=\"middle\" x=\"885.75\" y=\"-40.45\" font-family=\"Times New Roman,serif\" font-size=\"14.00\">*</text>\n",
       "</g>\n",
       "<!-- 1572369106512&#45;&gt;1572368089360* -->\n",
       "<g id=\"edge8\" class=\"edge\">\n",
       "<title>1572369106512&#45;&gt;1572368089360*</title>\n",
       "<path fill=\"none\" stroke=\"black\" d=\"M823,-56.57C831.79,-54.99 840.29,-53.47 848.03,-52.08\"/>\n",
       "<polygon fill=\"black\" stroke=\"black\" points=\"848.41,-55.57 857.64,-50.36 847.18,-48.68 848.41,-55.57\"/>\n",
       "</g>\n",
       "<!-- 1572369106512+ -->\n",
       "<g id=\"node3\" class=\"node\">\n",
       "<title>1572369106512+</title>\n",
       "<ellipse fill=\"none\" stroke=\"black\" cx=\"569.25\" cy=\"-73.5\" rx=\"27\" ry=\"18\"/>\n",
       "<text xml:space=\"preserve\" text-anchor=\"middle\" x=\"569.25\" y=\"-68.45\" font-family=\"Times New Roman,serif\" font-size=\"14.00\">+</text>\n",
       "</g>\n",
       "<!-- 1572369106512+&#45;&gt;1572369106512 -->\n",
       "<g id=\"edge1\" class=\"edge\">\n",
       "<title>1572369106512+&#45;&gt;1572369106512</title>\n",
       "<path fill=\"none\" stroke=\"black\" d=\"M596.4,-73.5C603.55,-73.5 611.76,-73.5 620.5,-73.5\"/>\n",
       "<polygon fill=\"black\" stroke=\"black\" points=\"620.31,-77 630.31,-73.5 620.31,-70 620.31,-77\"/>\n",
       "</g>\n",
       "<!-- 1572369119952 -->\n",
       "<g id=\"node4\" class=\"node\">\n",
       "<title>1572369119952</title>\n",
       "<polygon fill=\"none\" stroke=\"black\" points=\"633.38,-0.5 633.38,-36.5 821.62,-36.5 821.62,-0.5 633.38,-0.5\"/>\n",
       "<text xml:space=\"preserve\" text-anchor=\"middle\" x=\"643.62\" y=\"-13.7\" font-family=\"Times New Roman,serif\" font-size=\"14.00\">f</text>\n",
       "<polyline fill=\"none\" stroke=\"black\" points=\"653.88,-1 653.88,-36.5\"/>\n",
       "<text xml:space=\"preserve\" text-anchor=\"middle\" x=\"693.75\" y=\"-13.7\" font-family=\"Times New Roman,serif\" font-size=\"14.00\">data 4.0000</text>\n",
       "<polyline fill=\"none\" stroke=\"black\" points=\"733.62,-1 733.62,-36.5\"/>\n",
       "<text xml:space=\"preserve\" text-anchor=\"middle\" x=\"777.62\" y=\"-13.7\" font-family=\"Times New Roman,serif\" font-size=\"14.00\">grad 27.0000</text>\n",
       "</g>\n",
       "<!-- 1572369119952&#45;&gt;1572368089360* -->\n",
       "<g id=\"edge9\" class=\"edge\">\n",
       "<title>1572369119952&#45;&gt;1572368089360*</title>\n",
       "<path fill=\"none\" stroke=\"black\" d=\"M822.1,-34.67C831.27,-36.26 840.14,-37.79 848.19,-39.18\"/>\n",
       "<polygon fill=\"black\" stroke=\"black\" points=\"847.38,-42.59 857.83,-40.85 848.57,-35.7 847.38,-42.59\"/>\n",
       "</g>\n",
       "<!-- 1572368089360 -->\n",
       "<g id=\"node5\" class=\"node\">\n",
       "<title>1572368089360</title>\n",
       "<polygon fill=\"none\" stroke=\"black\" points=\"948.75,-27.5 948.75,-63.5 1147.5,-63.5 1147.5,-27.5 948.75,-27.5\"/>\n",
       "<text xml:space=\"preserve\" text-anchor=\"middle\" x=\"960.88\" y=\"-40.7\" font-family=\"Times New Roman,serif\" font-size=\"14.00\">L</text>\n",
       "<polyline fill=\"none\" stroke=\"black\" points=\"973,-28 973,-63.5\"/>\n",
       "<text xml:space=\"preserve\" text-anchor=\"middle\" x=\"1019.62\" y=\"-40.7\" font-family=\"Times New Roman,serif\" font-size=\"14.00\">data 108.0000</text>\n",
       "<polyline fill=\"none\" stroke=\"black\" points=\"1066.25,-28 1066.25,-63.5\"/>\n",
       "<text xml:space=\"preserve\" text-anchor=\"middle\" x=\"1106.88\" y=\"-40.7\" font-family=\"Times New Roman,serif\" font-size=\"14.00\">grad 1.0000</text>\n",
       "</g>\n",
       "<!-- 1572368089360*&#45;&gt;1572368089360 -->\n",
       "<g id=\"edge2\" class=\"edge\">\n",
       "<title>1572368089360*&#45;&gt;1572368089360</title>\n",
       "<path fill=\"none\" stroke=\"black\" d=\"M913.23,-45.5C920.36,-45.5 928.54,-45.5 937.27,-45.5\"/>\n",
       "<polygon fill=\"black\" stroke=\"black\" points=\"937.06,-49 947.06,-45.5 937.06,-42 937.06,-49\"/>\n",
       "</g>\n",
       "<!-- 1572369105168 -->\n",
       "<g id=\"node7\" class=\"node\">\n",
       "<title>1572369105168</title>\n",
       "<polygon fill=\"none\" stroke=\"black\" points=\"319.88,-28.5 319.88,-64.5 502.88,-64.5 502.88,-28.5 319.88,-28.5\"/>\n",
       "<text xml:space=\"preserve\" text-anchor=\"middle\" x=\"330.88\" y=\"-41.7\" font-family=\"Times New Roman,serif\" font-size=\"14.00\">c</text>\n",
       "<polyline fill=\"none\" stroke=\"black\" points=\"341.88,-29 341.88,-64.5\"/>\n",
       "<text xml:space=\"preserve\" text-anchor=\"middle\" x=\"381.75\" y=\"-41.7\" font-family=\"Times New Roman,serif\" font-size=\"14.00\">data 7.0000</text>\n",
       "<polyline fill=\"none\" stroke=\"black\" points=\"421.62,-29 421.62,-64.5\"/>\n",
       "<text xml:space=\"preserve\" text-anchor=\"middle\" x=\"462.25\" y=\"-41.7\" font-family=\"Times New Roman,serif\" font-size=\"14.00\">grad 4.0000</text>\n",
       "</g>\n",
       "<!-- 1572369105168&#45;&gt;1572369106512+ -->\n",
       "<g id=\"edge4\" class=\"edge\">\n",
       "<title>1572369105168&#45;&gt;1572369106512+</title>\n",
       "<path fill=\"none\" stroke=\"black\" d=\"M503.05,-62.21C512.99,-63.93 522.66,-65.6 531.36,-67.11\"/>\n",
       "<polygon fill=\"black\" stroke=\"black\" points=\"530.63,-70.54 541.08,-68.79 531.83,-63.64 530.63,-70.54\"/>\n",
       "</g>\n",
       "<!-- 1572369116496 -->\n",
       "<g id=\"node8\" class=\"node\">\n",
       "<title>1572369116496</title>\n",
       "<polygon fill=\"none\" stroke=\"black\" points=\"0,-56.5 0,-92.5 190.5,-92.5 190.5,-56.5 0,-56.5\"/>\n",
       "<text xml:space=\"preserve\" text-anchor=\"middle\" x=\"11.38\" y=\"-69.7\" font-family=\"Times New Roman,serif\" font-size=\"14.00\">b</text>\n",
       "<polyline fill=\"none\" stroke=\"black\" points=\"22.75,-57 22.75,-92.5\"/>\n",
       "<text xml:space=\"preserve\" text-anchor=\"middle\" x=\"66\" y=\"-69.7\" font-family=\"Times New Roman,serif\" font-size=\"14.00\">data 10.0000</text>\n",
       "<polyline fill=\"none\" stroke=\"black\" points=\"109.25,-57 109.25,-92.5\"/>\n",
       "<text xml:space=\"preserve\" text-anchor=\"middle\" x=\"149.88\" y=\"-69.7\" font-family=\"Times New Roman,serif\" font-size=\"14.00\">grad 8.0000</text>\n",
       "</g>\n",
       "<!-- 1572369116496&#45;&gt;1572346854864* -->\n",
       "<g id=\"edge6\" class=\"edge\">\n",
       "<title>1572369116496&#45;&gt;1572346854864*</title>\n",
       "<path fill=\"none\" stroke=\"black\" d=\"M190.75,-90.83C199.54,-92.35 208.04,-93.82 215.78,-95.15\"/>\n",
       "<polygon fill=\"black\" stroke=\"black\" points=\"214.94,-98.56 225.39,-96.81 216.13,-91.66 214.94,-98.56\"/>\n",
       "</g>\n",
       "<!-- 1572346854864 -->\n",
       "<g id=\"node9\" class=\"node\">\n",
       "<title>1572346854864</title>\n",
       "<polygon fill=\"none\" stroke=\"black\" points=\"316.5,-83.5 316.5,-119.5 506.25,-119.5 506.25,-83.5 316.5,-83.5\"/>\n",
       "<text xml:space=\"preserve\" text-anchor=\"middle\" x=\"327.5\" y=\"-96.7\" font-family=\"Times New Roman,serif\" font-size=\"14.00\">e</text>\n",
       "<polyline fill=\"none\" stroke=\"black\" points=\"338.5,-84 338.5,-119.5\"/>\n",
       "<text xml:space=\"preserve\" text-anchor=\"middle\" x=\"381.75\" y=\"-96.7\" font-family=\"Times New Roman,serif\" font-size=\"14.00\">data 20.0000</text>\n",
       "<polyline fill=\"none\" stroke=\"black\" points=\"425,-84 425,-119.5\"/>\n",
       "<text xml:space=\"preserve\" text-anchor=\"middle\" x=\"465.62\" y=\"-96.7\" font-family=\"Times New Roman,serif\" font-size=\"14.00\">grad 4.0000</text>\n",
       "</g>\n",
       "<!-- 1572346854864&#45;&gt;1572369106512+ -->\n",
       "<g id=\"edge7\" class=\"edge\">\n",
       "<title>1572346854864&#45;&gt;1572369106512+</title>\n",
       "<path fill=\"none\" stroke=\"black\" d=\"M506.64,-84.57C515.41,-82.99 523.9,-81.47 531.62,-80.08\"/>\n",
       "<polygon fill=\"black\" stroke=\"black\" points=\"531.98,-83.57 541.2,-78.36 530.74,-76.68 531.98,-83.57\"/>\n",
       "</g>\n",
       "<!-- 1572346854864*&#45;&gt;1572346854864 -->\n",
       "<g id=\"edge3\" class=\"edge\">\n",
       "<title>1572346854864*&#45;&gt;1572346854864</title>\n",
       "<path fill=\"none\" stroke=\"black\" d=\"M280.94,-101.5C288.09,-101.5 296.28,-101.5 304.99,-101.5\"/>\n",
       "<polygon fill=\"black\" stroke=\"black\" points=\"304.76,-105 314.76,-101.5 304.76,-98 304.76,-105\"/>\n",
       "</g>\n",
       "</g>\n",
       "</svg>\n"
      ],
      "text/plain": [
       "<graphviz.graphs.Digraph at 0x16e187d2990>"
      ]
     },
     "execution_count": 293,
     "metadata": {},
     "output_type": "execute_result"
    }
   ],
   "source": [
    "draw_dot(L)"
   ]
  },
  {
   "cell_type": "code",
   "execution_count": 294,
   "id": "7f247743-588b-41a1-a9ca-39bacec160f1",
   "metadata": {},
   "outputs": [
    {
     "name": "stdout",
     "output_type": "stream",
     "text": [
      "{'data': 2, 'op': '', 'children': (), 'label': 'a', 'grad': 40}\n"
     ]
    }
   ],
   "source": [
    "print(a.__dict__)"
   ]
  },
  {
   "cell_type": "code",
   "execution_count": 295,
   "id": "8c6fe8ea-91d6-4a58-aa3c-b84a98827fb2",
   "metadata": {},
   "outputs": [],
   "source": [
    "a.data -= 0.01 * a.grad\n",
    "b.data -= 0.01 * b.grad\n",
    "c.data -= 0.01 * c.grad\n",
    "f.data -= 0.01 * f.grad\n"
   ]
  },
  {
   "cell_type": "code",
   "execution_count": 296,
   "id": "ae452573-b153-4ce4-bc30-99d5640cf9cf",
   "metadata": {},
   "outputs": [
    {
     "name": "stdout",
     "output_type": "stream",
     "text": [
      "{'data': 1.6, 'op': '', 'children': (), 'label': 'a', 'grad': 40}\n"
     ]
    }
   ],
   "source": [
    "print(a.__dict__)"
   ]
  },
  {
   "cell_type": "code",
   "execution_count": 297,
   "id": "6824d7b2-da5b-400f-988d-65362f6564a7",
   "metadata": {},
   "outputs": [
    {
     "name": "stdout",
     "output_type": "stream",
     "text": [
      "{'data': 20, 'op': '*', 'children': (Value(data=1.6), Value(data=9.92)), 'label': 'e', 'grad': 4}\n"
     ]
    }
   ],
   "source": [
    "print(e.__dict__)"
   ]
  },
  {
   "cell_type": "code",
   "execution_count": 298,
   "id": "b6be59d7-04d3-442f-ad64-0eec14f2f3bb",
   "metadata": {},
   "outputs": [],
   "source": [
    "e.data = a.data * b.data\n",
    "d.data = e.data + c.data\n",
    "L.data = f.data * d.data"
   ]
  },
  {
   "cell_type": "code",
   "execution_count": 299,
   "id": "da8e9e81-2ec2-4447-9b45-d9056c5f9304",
   "metadata": {},
   "outputs": [
    {
     "name": "stdout",
     "output_type": "stream",
     "text": [
      "{'data': 15.872, 'op': '*', 'children': (Value(data=1.6), Value(data=9.92)), 'label': 'e', 'grad': 4}\n"
     ]
    }
   ],
   "source": [
    "print(e.__dict__)"
   ]
  },
  {
   "cell_type": "code",
   "execution_count": 300,
   "id": "6cdf1333-6e7f-45dd-9268-392340d81b97",
   "metadata": {},
   "outputs": [
    {
     "data": {
      "text/plain": [
       "85.16336"
      ]
     },
     "execution_count": 300,
     "metadata": {},
     "output_type": "execute_result"
    }
   ],
   "source": [
    "L.data"
   ]
  },
  {
   "cell_type": "code",
   "execution_count": null,
   "id": "03a5a8d8-7e1e-4f86-8c37-75f25bdde259",
   "metadata": {},
   "outputs": [],
   "source": [
    "chain(L)"
   ]
  },
  {
   "cell_type": "code",
   "execution_count": 302,
   "id": "82e3a20d-e637-435b-8f1c-32bb4953af68",
   "metadata": {},
   "outputs": [
    {
     "data": {
      "image/svg+xml": [
       "<?xml version=\"1.0\" encoding=\"UTF-8\" standalone=\"no\"?>\n",
       "<!DOCTYPE svg PUBLIC \"-//W3C//DTD SVG 1.1//EN\"\n",
       " \"http://www.w3.org/Graphics/SVG/1.1/DTD/svg11.dtd\">\n",
       "<!-- Generated by graphviz version 13.1.2 (20250808.2320)\n",
       " -->\n",
       "<!-- Pages: 1 -->\n",
       "<svg width=\"1148pt\" height=\"156pt\"\n",
       " viewBox=\"0.00 0.00 1148.00 156.00\" xmlns=\"http://www.w3.org/2000/svg\" xmlns:xlink=\"http://www.w3.org/1999/xlink\">\n",
       "<g id=\"graph0\" class=\"graph\" transform=\"scale(1 1) rotate(0) translate(4 152)\">\n",
       "<polygon fill=\"white\" stroke=\"none\" points=\"-4,4 -4,-152 1144,-152 1144,4 -4,4\"/>\n",
       "<!-- 1572369117264 -->\n",
       "<g id=\"node1\" class=\"node\">\n",
       "<title>1572369117264</title>\n",
       "<polygon fill=\"none\" stroke=\"black\" points=\"0,-111.5 0,-147.5 189.75,-147.5 189.75,-111.5 0,-111.5\"/>\n",
       "<text xml:space=\"preserve\" text-anchor=\"middle\" x=\"11\" y=\"-124.7\" font-family=\"Times New Roman,serif\" font-size=\"14.00\">a</text>\n",
       "<polyline fill=\"none\" stroke=\"black\" points=\"22,-112 22,-147.5\"/>\n",
       "<text xml:space=\"preserve\" text-anchor=\"middle\" x=\"61.88\" y=\"-124.7\" font-family=\"Times New Roman,serif\" font-size=\"14.00\">data 1.6000</text>\n",
       "<polyline fill=\"none\" stroke=\"black\" points=\"101.75,-112 101.75,-147.5\"/>\n",
       "<text xml:space=\"preserve\" text-anchor=\"middle\" x=\"145.75\" y=\"-124.7\" font-family=\"Times New Roman,serif\" font-size=\"14.00\">grad 37.0016</text>\n",
       "</g>\n",
       "<!-- 1572346854864* -->\n",
       "<g id=\"node10\" class=\"node\">\n",
       "<title>1572346854864*</title>\n",
       "<ellipse fill=\"none\" stroke=\"black\" cx=\"252.75\" cy=\"-101.5\" rx=\"27\" ry=\"18\"/>\n",
       "<text xml:space=\"preserve\" text-anchor=\"middle\" x=\"252.75\" y=\"-96.45\" font-family=\"Times New Roman,serif\" font-size=\"14.00\">*</text>\n",
       "</g>\n",
       "<!-- 1572369117264&#45;&gt;1572346854864* -->\n",
       "<g id=\"edge5\" class=\"edge\">\n",
       "<title>1572369117264&#45;&gt;1572346854864*</title>\n",
       "<path fill=\"none\" stroke=\"black\" d=\"M190.14,-112.57C198.91,-110.99 207.4,-109.47 215.12,-108.08\"/>\n",
       "<polygon fill=\"black\" stroke=\"black\" points=\"215.48,-111.57 224.7,-106.36 214.24,-104.68 215.48,-111.57\"/>\n",
       "</g>\n",
       "<!-- 1572369106512 -->\n",
       "<g id=\"node2\" class=\"node\">\n",
       "<title>1572369106512</title>\n",
       "<polygon fill=\"none\" stroke=\"black\" points=\"631.5,-55.5 631.5,-91.5 822,-91.5 822,-55.5 631.5,-55.5\"/>\n",
       "<text xml:space=\"preserve\" text-anchor=\"middle\" x=\"642.88\" y=\"-68.7\" font-family=\"Times New Roman,serif\" font-size=\"14.00\">d</text>\n",
       "<polyline fill=\"none\" stroke=\"black\" points=\"654.25,-56 654.25,-91.5\"/>\n",
       "<text xml:space=\"preserve\" text-anchor=\"middle\" x=\"697.5\" y=\"-68.7\" font-family=\"Times New Roman,serif\" font-size=\"14.00\">data 22.8320</text>\n",
       "<polyline fill=\"none\" stroke=\"black\" points=\"740.75,-56 740.75,-91.5\"/>\n",
       "<text xml:space=\"preserve\" text-anchor=\"middle\" x=\"781.38\" y=\"-68.7\" font-family=\"Times New Roman,serif\" font-size=\"14.00\">grad 3.7300</text>\n",
       "</g>\n",
       "<!-- 1572368089360* -->\n",
       "<g id=\"node6\" class=\"node\">\n",
       "<title>1572368089360*</title>\n",
       "<ellipse fill=\"none\" stroke=\"black\" cx=\"885\" cy=\"-45.5\" rx=\"27\" ry=\"18\"/>\n",
       "<text xml:space=\"preserve\" text-anchor=\"middle\" x=\"885\" y=\"-40.45\" font-family=\"Times New Roman,serif\" font-size=\"14.00\">*</text>\n",
       "</g>\n",
       "<!-- 1572369106512&#45;&gt;1572368089360* -->\n",
       "<g id=\"edge8\" class=\"edge\">\n",
       "<title>1572369106512&#45;&gt;1572368089360*</title>\n",
       "<path fill=\"none\" stroke=\"black\" d=\"M822.25,-56.57C831.04,-54.99 839.54,-53.47 847.28,-52.08\"/>\n",
       "<polygon fill=\"black\" stroke=\"black\" points=\"847.66,-55.57 856.89,-50.36 846.43,-48.68 847.66,-55.57\"/>\n",
       "</g>\n",
       "<!-- 1572369106512+ -->\n",
       "<g id=\"node3\" class=\"node\">\n",
       "<title>1572369106512+</title>\n",
       "<ellipse fill=\"none\" stroke=\"black\" cx=\"568.5\" cy=\"-73.5\" rx=\"27\" ry=\"18\"/>\n",
       "<text xml:space=\"preserve\" text-anchor=\"middle\" x=\"568.5\" y=\"-68.45\" font-family=\"Times New Roman,serif\" font-size=\"14.00\">+</text>\n",
       "</g>\n",
       "<!-- 1572369106512+&#45;&gt;1572369106512 -->\n",
       "<g id=\"edge1\" class=\"edge\">\n",
       "<title>1572369106512+&#45;&gt;1572369106512</title>\n",
       "<path fill=\"none\" stroke=\"black\" d=\"M595.65,-73.5C602.8,-73.5 611.01,-73.5 619.75,-73.5\"/>\n",
       "<polygon fill=\"black\" stroke=\"black\" points=\"619.56,-77 629.56,-73.5 619.56,-70 619.56,-77\"/>\n",
       "</g>\n",
       "<!-- 1572369119952 -->\n",
       "<g id=\"node4\" class=\"node\">\n",
       "<title>1572369119952</title>\n",
       "<polygon fill=\"none\" stroke=\"black\" points=\"632.62,-0.5 632.62,-36.5 820.88,-36.5 820.88,-0.5 632.62,-0.5\"/>\n",
       "<text xml:space=\"preserve\" text-anchor=\"middle\" x=\"642.88\" y=\"-13.7\" font-family=\"Times New Roman,serif\" font-size=\"14.00\">f</text>\n",
       "<polyline fill=\"none\" stroke=\"black\" points=\"653.12,-1 653.12,-36.5\"/>\n",
       "<text xml:space=\"preserve\" text-anchor=\"middle\" x=\"693\" y=\"-13.7\" font-family=\"Times New Roman,serif\" font-size=\"14.00\">data 3.7300</text>\n",
       "<polyline fill=\"none\" stroke=\"black\" points=\"732.88,-1 732.88,-36.5\"/>\n",
       "<text xml:space=\"preserve\" text-anchor=\"middle\" x=\"776.88\" y=\"-13.7\" font-family=\"Times New Roman,serif\" font-size=\"14.00\">grad 22.8320</text>\n",
       "</g>\n",
       "<!-- 1572369119952&#45;&gt;1572368089360* -->\n",
       "<g id=\"edge9\" class=\"edge\">\n",
       "<title>1572369119952&#45;&gt;1572368089360*</title>\n",
       "<path fill=\"none\" stroke=\"black\" d=\"M821.35,-34.67C830.52,-36.26 839.39,-37.79 847.44,-39.18\"/>\n",
       "<polygon fill=\"black\" stroke=\"black\" points=\"846.63,-42.59 857.08,-40.85 847.82,-35.7 846.63,-42.59\"/>\n",
       "</g>\n",
       "<!-- 1572368089360 -->\n",
       "<g id=\"node5\" class=\"node\">\n",
       "<title>1572368089360</title>\n",
       "<polygon fill=\"none\" stroke=\"black\" points=\"948,-27.5 948,-63.5 1140,-63.5 1140,-27.5 948,-27.5\"/>\n",
       "<text xml:space=\"preserve\" text-anchor=\"middle\" x=\"960.12\" y=\"-40.7\" font-family=\"Times New Roman,serif\" font-size=\"14.00\">L</text>\n",
       "<polyline fill=\"none\" stroke=\"black\" points=\"972.25,-28 972.25,-63.5\"/>\n",
       "<text xml:space=\"preserve\" text-anchor=\"middle\" x=\"1015.5\" y=\"-40.7\" font-family=\"Times New Roman,serif\" font-size=\"14.00\">data 85.1634</text>\n",
       "<polyline fill=\"none\" stroke=\"black\" points=\"1058.75,-28 1058.75,-63.5\"/>\n",
       "<text xml:space=\"preserve\" text-anchor=\"middle\" x=\"1099.38\" y=\"-40.7\" font-family=\"Times New Roman,serif\" font-size=\"14.00\">grad 1.0000</text>\n",
       "</g>\n",
       "<!-- 1572368089360*&#45;&gt;1572368089360 -->\n",
       "<g id=\"edge2\" class=\"edge\">\n",
       "<title>1572368089360*&#45;&gt;1572368089360</title>\n",
       "<path fill=\"none\" stroke=\"black\" d=\"M912.28,-45.5C919.4,-45.5 927.57,-45.5 936.27,-45.5\"/>\n",
       "<polygon fill=\"black\" stroke=\"black\" points=\"936.03,-49 946.03,-45.5 936.03,-42 936.03,-49\"/>\n",
       "</g>\n",
       "<!-- 1572369105168 -->\n",
       "<g id=\"node7\" class=\"node\">\n",
       "<title>1572369105168</title>\n",
       "<polygon fill=\"none\" stroke=\"black\" points=\"319.12,-28.5 319.12,-64.5 502.12,-64.5 502.12,-28.5 319.12,-28.5\"/>\n",
       "<text xml:space=\"preserve\" text-anchor=\"middle\" x=\"330.12\" y=\"-41.7\" font-family=\"Times New Roman,serif\" font-size=\"14.00\">c</text>\n",
       "<polyline fill=\"none\" stroke=\"black\" points=\"341.12,-29 341.12,-64.5\"/>\n",
       "<text xml:space=\"preserve\" text-anchor=\"middle\" x=\"381\" y=\"-41.7\" font-family=\"Times New Roman,serif\" font-size=\"14.00\">data 6.9600</text>\n",
       "<polyline fill=\"none\" stroke=\"black\" points=\"420.88,-29 420.88,-64.5\"/>\n",
       "<text xml:space=\"preserve\" text-anchor=\"middle\" x=\"461.5\" y=\"-41.7\" font-family=\"Times New Roman,serif\" font-size=\"14.00\">grad 3.7300</text>\n",
       "</g>\n",
       "<!-- 1572369105168&#45;&gt;1572369106512+ -->\n",
       "<g id=\"edge4\" class=\"edge\">\n",
       "<title>1572369105168&#45;&gt;1572369106512+</title>\n",
       "<path fill=\"none\" stroke=\"black\" d=\"M502.3,-62.21C512.24,-63.93 521.91,-65.6 530.61,-67.11\"/>\n",
       "<polygon fill=\"black\" stroke=\"black\" points=\"529.88,-70.54 540.33,-68.79 531.08,-63.64 529.88,-70.54\"/>\n",
       "</g>\n",
       "<!-- 1572369116496 -->\n",
       "<g id=\"node8\" class=\"node\">\n",
       "<title>1572369116496</title>\n",
       "<polygon fill=\"none\" stroke=\"black\" points=\"3,-56.5 3,-92.5 186.75,-92.5 186.75,-56.5 3,-56.5\"/>\n",
       "<text xml:space=\"preserve\" text-anchor=\"middle\" x=\"14.38\" y=\"-69.7\" font-family=\"Times New Roman,serif\" font-size=\"14.00\">b</text>\n",
       "<polyline fill=\"none\" stroke=\"black\" points=\"25.75,-57 25.75,-92.5\"/>\n",
       "<text xml:space=\"preserve\" text-anchor=\"middle\" x=\"65.62\" y=\"-69.7\" font-family=\"Times New Roman,serif\" font-size=\"14.00\">data 9.9200</text>\n",
       "<polyline fill=\"none\" stroke=\"black\" points=\"105.5,-57 105.5,-92.5\"/>\n",
       "<text xml:space=\"preserve\" text-anchor=\"middle\" x=\"146.12\" y=\"-69.7\" font-family=\"Times New Roman,serif\" font-size=\"14.00\">grad 5.9680</text>\n",
       "</g>\n",
       "<!-- 1572369116496&#45;&gt;1572346854864* -->\n",
       "<g id=\"edge6\" class=\"edge\">\n",
       "<title>1572369116496&#45;&gt;1572346854864*</title>\n",
       "<path fill=\"none\" stroke=\"black\" d=\"M187,-90.28C196.89,-92 206.49,-93.66 215.14,-95.16\"/>\n",
       "<polygon fill=\"black\" stroke=\"black\" points=\"214.34,-98.57 224.79,-96.83 215.53,-91.67 214.34,-98.57\"/>\n",
       "</g>\n",
       "<!-- 1572346854864 -->\n",
       "<g id=\"node9\" class=\"node\">\n",
       "<title>1572346854864</title>\n",
       "<polygon fill=\"none\" stroke=\"black\" points=\"315.75,-83.5 315.75,-119.5 505.5,-119.5 505.5,-83.5 315.75,-83.5\"/>\n",
       "<text xml:space=\"preserve\" text-anchor=\"middle\" x=\"326.75\" y=\"-96.7\" font-family=\"Times New Roman,serif\" font-size=\"14.00\">e</text>\n",
       "<polyline fill=\"none\" stroke=\"black\" points=\"337.75,-84 337.75,-119.5\"/>\n",
       "<text xml:space=\"preserve\" text-anchor=\"middle\" x=\"381\" y=\"-96.7\" font-family=\"Times New Roman,serif\" font-size=\"14.00\">data 15.8720</text>\n",
       "<polyline fill=\"none\" stroke=\"black\" points=\"424.25,-84 424.25,-119.5\"/>\n",
       "<text xml:space=\"preserve\" text-anchor=\"middle\" x=\"464.88\" y=\"-96.7\" font-family=\"Times New Roman,serif\" font-size=\"14.00\">grad 3.7300</text>\n",
       "</g>\n",
       "<!-- 1572346854864&#45;&gt;1572369106512+ -->\n",
       "<g id=\"edge7\" class=\"edge\">\n",
       "<title>1572346854864&#45;&gt;1572369106512+</title>\n",
       "<path fill=\"none\" stroke=\"black\" d=\"M505.89,-84.57C514.66,-82.99 523.15,-81.47 530.87,-80.08\"/>\n",
       "<polygon fill=\"black\" stroke=\"black\" points=\"531.23,-83.57 540.45,-78.36 529.99,-76.68 531.23,-83.57\"/>\n",
       "</g>\n",
       "<!-- 1572346854864*&#45;&gt;1572346854864 -->\n",
       "<g id=\"edge3\" class=\"edge\">\n",
       "<title>1572346854864*&#45;&gt;1572346854864</title>\n",
       "<path fill=\"none\" stroke=\"black\" d=\"M280.19,-101.5C287.34,-101.5 295.53,-101.5 304.24,-101.5\"/>\n",
       "<polygon fill=\"black\" stroke=\"black\" points=\"304.01,-105 314.01,-101.5 304.01,-98 304.01,-105\"/>\n",
       "</g>\n",
       "</g>\n",
       "</svg>\n"
      ],
      "text/plain": [
       "<graphviz.graphs.Digraph at 0x16e187f81d0>"
      ]
     },
     "execution_count": 302,
     "metadata": {},
     "output_type": "execute_result"
    }
   ],
   "source": [
    "draw_dot(L)"
   ]
  },
  {
   "cell_type": "markdown",
   "id": "55ab9346-356a-43b2-88d9-31f7a6a81457",
   "metadata": {},
   "source": [
    "## Automate forward backward"
   ]
  },
  {
   "cell_type": "code",
   "execution_count": 8,
   "id": "8287336f-decf-48f1-a375-dc296c6e7ea4",
   "metadata": {},
   "outputs": [],
   "source": [
    "def forward(a,b,c,f,e,d,L):\n",
    "\n",
    "    e.data = (a * b).data\n",
    "    d.data = (e + c).data\n",
    "    L.data = (f * d).data\n",
    "\n",
    "    return \n",
    "\n",
    "    "
   ]
  },
  {
   "cell_type": "code",
   "execution_count": 9,
   "id": "627dcf9b-7131-466b-bb8e-8fe15d96b9f4",
   "metadata": {},
   "outputs": [],
   "source": [
    "def backward(root,grad = 1):\n",
    "\n",
    "\n",
    "    if root.children == ():\n",
    "        return \n",
    "\n",
    "    root.grad = grad\n",
    "    \n",
    "    left = root.children[0]\n",
    "    right = root.children[1]\n",
    "\n",
    "    \n",
    "\n",
    "    if root.op == \"+\":\n",
    "        left.grad = root.grad\n",
    "        right.grad = root.grad\n",
    "        \n",
    "    else:\n",
    "        left.grad = right.data *root.grad\n",
    "        right.grad = left.data *root.grad\n",
    "        \n",
    "\n",
    "    backward(left,left.grad)\n",
    "    backward(right,right.grad)\n",
    "\n",
    "    return\n",
    "\n",
    "    \n",
    "    "
   ]
  },
  {
   "cell_type": "code",
   "execution_count": 10,
   "id": "1525b1c9-7931-4a7c-9396-896d62cf5359",
   "metadata": {},
   "outputs": [],
   "source": [
    "def update():\n",
    "    a.data -= 0.01 * a.grad\n",
    "    b.data -= 0.01 * b.grad\n",
    "    c.data -= 0.01 * c.grad\n",
    "    f.data -= 0.01 * f.grad\n",
    "    return "
   ]
  },
  {
   "cell_type": "code",
   "execution_count": 16,
   "id": "06fc9b1d-1b7c-41bc-8243-8da55ceafb1e",
   "metadata": {},
   "outputs": [
    {
     "name": "stdout",
     "output_type": "stream",
     "text": [
      "Loss:  108 Values:  [2, 10, 7, 4, 20, 27, 108]\n",
      "Loss:  108 Values:  [1.6, 9.92, 6.96, 3.73, 20, 27, 108]\n",
      "Loss:  85.16336 Values:  [1.2299840000000002, 9.86032, 6.9227, 3.50168, 15.872, 22.832, 85.16336]\n",
      "Loss:  66.7095806582826 Values:  [0.8847071466240002, 9.8172498962688, 6.8876832, 3.3111726416511997, 12.128035834880002, 19.05073583488, 66.7095806582826]\n",
      "Loss:  51.565137712341574 Values:  [0.5596410538962169, 9.787955715271053, 6.854571473583488, 3.1554418982169725, 8.685391143422732, 15.573074343422732, 51.565137712341574]\n",
      "Loss:  38.91389816943448 Values:  [0.2507877982776313, 9.77029656697679, 6.823017054601318, 3.0321187649612997, 5.477741851983792, 12.33231332556728, 38.91389816943448]\n",
      "Loss:  28.117711222188145 Values:  [-0.04545919732204157, 9.76269238308498, 6.792695866951705, 2.9393858827697703, 2.4502711645516086, 9.273288219152928, 28.117711222188145]\n",
      "Loss:  18.661842656302632 Values:  [-0.33242239900868115, 9.764028604313484, 6.763302008124008, 2.875896965694624, -0.4438041594370523, 6.348891707514653, 18.661842656302632]\n",
      "Loss:  10.11602565697561 Values:  [-0.6132258013696879, 9.773588729999863, 6.734543038467061, 2.8407217637397366, -3.2457818126352733, 3.5175201954887343, 10.11602565697561]\n",
      "Loss:  2.1053334886636645 Values:  [-0.8908662635212081, 9.79100876880024, 6.7061358208296635, 2.833310501167185, -5.993416781211916, 0.7411262572551447, 2.1053334886636645]\n"
     ]
    }
   ],
   "source": [
    "a = Val(2) ; a.label = \"a\"\n",
    "b = Val(10) ; b.label = \"b\"\n",
    "c = Val(7) ; c.label = \"c\"\n",
    "f = Val(4) ; f.label = \"f\"\n",
    "\n",
    "\n",
    "e = a*b ; e.label = \"e\"\n",
    "d = e + c ; d.label = \"d\"\n",
    "L = f * d ; L.label = \"L\"\n",
    "\n",
    "\n",
    "max_iter = 20\n",
    "\n",
    "vals = []\n",
    "\n",
    "for i in range(max_iter):\n",
    "\n",
    "    print(\"Loss: \", L.data ,\"Values: \", [a.data,b.data,c.data,f.data,e.data,d.data,L.data])\n",
    "    vals.append([a.data,b.data,c.data,f.data,e.data,d.data,L.data])\n",
    "    forward(a,b,c,f,e,d,L)\n",
    "    if L.data < 0 :\n",
    "        break\n",
    "    backward(L)\n",
    "    draw_dot(L)\n",
    "    update()"
   ]
  },
  {
   "cell_type": "code",
   "execution_count": null,
   "id": "8f881e28-180e-42e5-83a8-486ae867ab00",
   "metadata": {},
   "outputs": [],
   "source": []
  },
  {
   "cell_type": "code",
   "execution_count": null,
   "id": "c9dc408b-2b2a-4c7a-8b8b-84d8555ab1dd",
   "metadata": {},
   "outputs": [],
   "source": []
  },
  {
   "cell_type": "code",
   "execution_count": null,
   "id": "7be2be4c-5806-41ba-b650-8b8603ccf54d",
   "metadata": {},
   "outputs": [],
   "source": []
  },
  {
   "cell_type": "code",
   "execution_count": null,
   "id": "0c8af3da-4d66-4fc8-be41-721c7ed3e3f7",
   "metadata": {},
   "outputs": [],
   "source": []
  },
  {
   "cell_type": "code",
   "execution_count": null,
   "id": "083cd63b-f257-47d0-830f-941bdd98c8a6",
   "metadata": {},
   "outputs": [],
   "source": []
  }
 ],
 "metadata": {
  "kernelspec": {
   "display_name": "Python (image-proc)",
   "language": "python",
   "name": "image-proc"
  },
  "language_info": {
   "codemirror_mode": {
    "name": "ipython",
    "version": 3
   },
   "file_extension": ".py",
   "mimetype": "text/x-python",
   "name": "python",
   "nbconvert_exporter": "python",
   "pygments_lexer": "ipython3",
   "version": "3.11.13"
  }
 },
 "nbformat": 4,
 "nbformat_minor": 5
}
