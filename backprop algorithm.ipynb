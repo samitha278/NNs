{
 "cells": [
  {
   "cell_type": "code",
   "execution_count": 17,
   "id": "84a57b3b-5f2c-4d30-a3ba-56c490eccdfd",
   "metadata": {},
   "outputs": [],
   "source": [
    "import math\n",
    "import numpy as np\n",
    "import matplotlib.pyplot as plt\n",
    "%matplotlib inline\n",
    "\n",
    "\n",
    "import os\n",
    "os.environ[\"PATH\"] += os.pathsep + r\"C:\\Program Files\\Graphviz\\bin\"\n"
   ]
  },
  {
   "cell_type": "code",
   "execution_count": 2,
   "id": "94d0faab-8e40-4b7f-8681-c04789bf84c7",
   "metadata": {},
   "outputs": [],
   "source": [
    "a = 2\n",
    "b = 10\n",
    "c = 7\n",
    "f = 4\n"
   ]
  },
  {
   "cell_type": "code",
   "execution_count": 3,
   "id": "287c8676-9ec5-46dd-98ea-c6912b70bee8",
   "metadata": {},
   "outputs": [],
   "source": [
    "e = a * b\n",
    "d = e + c\n",
    "L = f * d"
   ]
  },
  {
   "cell_type": "code",
   "execution_count": 4,
   "id": "bd4d6a54-6697-48d4-8a3e-cb8328f2c207",
   "metadata": {},
   "outputs": [
    {
     "data": {
      "text/plain": [
       "108"
      ]
     },
     "execution_count": 4,
     "metadata": {},
     "output_type": "execute_result"
    }
   ],
   "source": [
    "L"
   ]
  },
  {
   "cell_type": "code",
   "execution_count": 5,
   "id": "0e27748a-624e-4b9b-a2e5-f36d790b48ad",
   "metadata": {},
   "outputs": [],
   "source": [
    "def manual_gradient():\n",
    "\n",
    "    a = 2\n",
    "    b = 10\n",
    "    c = 7\n",
    "    f = 4\n",
    "\n",
    "\n",
    "    h = 0.01\n",
    "    \n",
    "    e = a * b\n",
    "    d = e + c\n",
    "    L = f * d\n",
    "\n",
    "    \n",
    "    a += h\n",
    "\n",
    "    e = a * b\n",
    "    d = e + c\n",
    "    L_ = f * d \n",
    "\n",
    "    dL_df = (L_ - L) / h     #partial derivative\n",
    "\n",
    "    return dL_df\n",
    "    \n",
    "    "
   ]
  },
  {
   "cell_type": "code",
   "execution_count": 6,
   "id": "5a70b69f-bc71-49b5-b9ab-e7850408f318",
   "metadata": {},
   "outputs": [
    {
     "data": {
      "text/plain": [
       "39.99999999999915"
      ]
     },
     "execution_count": 6,
     "metadata": {},
     "output_type": "execute_result"
    }
   ],
   "source": [
    "manual_gradient()"
   ]
  },
  {
   "cell_type": "code",
   "execution_count": 7,
   "id": "c7dafcc5-d76c-4920-b7d1-09216e745e4d",
   "metadata": {},
   "outputs": [],
   "source": [
    "class Val():\n",
    "\n",
    "\n",
    "    def __init__(self,data,children = () , op=\"\",label = \"\" ):\n",
    "\n",
    "        self.data = data\n",
    "        self.op = op\n",
    "        self.children = children\n",
    "        self.label = label\n",
    "        self.grad = 0\n",
    "\n",
    "\n",
    "\n",
    "    def __repr__(self):\n",
    "        return f\"Value(data={self.data})\"\n",
    "\n",
    "\n",
    "    \n",
    "    def __add__(self,other):\n",
    "        out =  Val((self.data + other.data),(self,other), \"+\")\n",
    "        \n",
    "\n",
    "        return out\n",
    "\n",
    "\n",
    "    def __mul__(self,other):\n",
    "        out = Val((self.data*other.data),(self,other),\"*\")\n",
    "\n",
    "\n",
    "        return out\n",
    "\n",
    "\n",
    "\n",
    "    \n",
    "\n",
    "        \n",
    "\n",
    "        \n",
    "\n",
    "\n",
    "    \n",
    "\n",
    "\n",
    "\n",
    "\n",
    "\n",
    "\n",
    "\n",
    "    "
   ]
  },
  {
   "cell_type": "code",
   "execution_count": 8,
   "id": "1a9fb839-fb27-4e6b-ae7a-0357ab3eedd5",
   "metadata": {},
   "outputs": [],
   "source": [
    "a = Val(2) ; a.label = \"a\"\n",
    "b = Val(10) ; b.label = \"b\"\n",
    "\n",
    "c = Val(7) ; c.label = \"c\"\n",
    "f = Val(4) ; f.label = \"f\"\n"
   ]
  },
  {
   "cell_type": "code",
   "execution_count": 9,
   "id": "197087ce-de01-4b80-9b90-f8c12e9b2243",
   "metadata": {},
   "outputs": [
    {
     "data": {
      "text/plain": [
       "'e'"
      ]
     },
     "execution_count": 9,
     "metadata": {},
     "output_type": "execute_result"
    }
   ],
   "source": [
    "e = a*b ; e.label = \"e\"\n",
    "e.label"
   ]
  },
  {
   "cell_type": "code",
   "execution_count": 10,
   "id": "b31bcc18-8e58-41b4-a57b-ccb5fd3a12f2",
   "metadata": {},
   "outputs": [],
   "source": [
    "d = e + c ; d.label = \"d\""
   ]
  },
  {
   "cell_type": "code",
   "execution_count": 11,
   "id": "2f827bd3-1de3-4adb-ae3d-7fe934f36c04",
   "metadata": {},
   "outputs": [],
   "source": [
    "L = f * d ; L.label = \"L\""
   ]
  },
  {
   "cell_type": "code",
   "execution_count": 12,
   "id": "52d936fe-aba2-4334-b4d2-1999f8725c46",
   "metadata": {},
   "outputs": [
    {
     "name": "stdout",
     "output_type": "stream",
     "text": [
      "{'data': 108, 'op': '*', 'children': (Value(data=4), Value(data=27)), 'label': 'L', 'grad': 0}\n"
     ]
    }
   ],
   "source": [
    "print(L.__dict__)"
   ]
  },
  {
   "cell_type": "code",
   "execution_count": 13,
   "id": "eddcb660-751f-42ec-bc4a-8ee9105ac675",
   "metadata": {},
   "outputs": [
    {
     "name": "stdout",
     "output_type": "stream",
     "text": [
      "{'data': 27, 'op': '+', 'children': (Value(data=20), Value(data=7)), 'label': 'd', 'grad': 0}\n"
     ]
    }
   ],
   "source": [
    "print(L.children[1].__dict__)"
   ]
  },
  {
   "cell_type": "code",
   "execution_count": 18,
   "id": "875fa433-987c-4635-8ab9-a8b1e165d0aa",
   "metadata": {},
   "outputs": [],
   "source": [
    "from graphviz import Digraph\n",
    "\n",
    "def trace(root):\n",
    "  # builds a set of all nodes and edges in a graph\n",
    "  nodes, edges = set(), set()\n",
    "  def build(v):\n",
    "    if v not in nodes:\n",
    "      nodes.add(v)\n",
    "      for child in v.children:\n",
    "        edges.add((child, v))\n",
    "        build(child)\n",
    "  build(root)\n",
    "  return nodes, edges\n",
    "\n",
    "def draw_dot(root):\n",
    "  dot = Digraph(format='svg', graph_attr={'rankdir': 'LR'}) # LR = left to right\n",
    "  \n",
    "  nodes, edges = trace(root)\n",
    "  for n in nodes:\n",
    "    uid = str(id(n))\n",
    "    # for any value in the graph, create a rectangular ('record') node for it\n",
    "    dot.node(name = uid, label = \"{ %s | data %.4f | grad %.4f }\" % (n.label, n.data, n.grad), shape='record')\n",
    "    if n.op:\n",
    "      # if this value is a result of some operation, create an op node for it\n",
    "      dot.node(name = uid + n.op, label = n.op)\n",
    "      # and connect this node to it\n",
    "      dot.edge(uid + n.op, uid)\n",
    "\n",
    "  for n1, n2 in edges:\n",
    "    # connect n1 to the op node of n2\n",
    "    dot.edge(str(id(n1)), str(id(n2)) + n2.op)\n",
    "\n",
    "  return dot"
   ]
  },
  {
   "cell_type": "code",
   "execution_count": 19,
   "id": "5f07afde-ccb4-4425-9bdc-71e3726dca9e",
   "metadata": {},
   "outputs": [
    {
     "data": {
      "image/svg+xml": [
       "<?xml version=\"1.0\" encoding=\"UTF-8\" standalone=\"no\"?>\n",
       "<!DOCTYPE svg PUBLIC \"-//W3C//DTD SVG 1.1//EN\"\n",
       " \"http://www.w3.org/Graphics/SVG/1.1/DTD/svg11.dtd\">\n",
       "<!-- Generated by graphviz version 13.1.2 (20250808.2320)\n",
       " -->\n",
       "<!-- Pages: 1 -->\n",
       "<svg width=\"1156pt\" height=\"156pt\"\n",
       " viewBox=\"0.00 0.00 1156.00 156.00\" xmlns=\"http://www.w3.org/2000/svg\" xmlns:xlink=\"http://www.w3.org/1999/xlink\">\n",
       "<g id=\"graph0\" class=\"graph\" transform=\"scale(1 1) rotate(0) translate(4 152)\">\n",
       "<polygon fill=\"white\" stroke=\"none\" points=\"-4,4 -4,-152 1151.5,-152 1151.5,4 -4,4\"/>\n",
       "<!-- 2496146346512 -->\n",
       "<g id=\"node1\" class=\"node\">\n",
       "<title>2496146346512</title>\n",
       "<polygon fill=\"none\" stroke=\"black\" points=\"948.75,-27.5 948.75,-63.5 1147.5,-63.5 1147.5,-27.5 948.75,-27.5\"/>\n",
       "<text xml:space=\"preserve\" text-anchor=\"middle\" x=\"960.88\" y=\"-40.7\" font-family=\"Times New Roman,serif\" font-size=\"14.00\">L</text>\n",
       "<polyline fill=\"none\" stroke=\"black\" points=\"973,-28 973,-63.5\"/>\n",
       "<text xml:space=\"preserve\" text-anchor=\"middle\" x=\"1019.62\" y=\"-40.7\" font-family=\"Times New Roman,serif\" font-size=\"14.00\">data 108.0000</text>\n",
       "<polyline fill=\"none\" stroke=\"black\" points=\"1066.25,-28 1066.25,-63.5\"/>\n",
       "<text xml:space=\"preserve\" text-anchor=\"middle\" x=\"1106.88\" y=\"-40.7\" font-family=\"Times New Roman,serif\" font-size=\"14.00\">grad 0.0000</text>\n",
       "</g>\n",
       "<!-- 2496146346512* -->\n",
       "<g id=\"node2\" class=\"node\">\n",
       "<title>2496146346512*</title>\n",
       "<ellipse fill=\"none\" stroke=\"black\" cx=\"885.75\" cy=\"-45.5\" rx=\"27\" ry=\"18\"/>\n",
       "<text xml:space=\"preserve\" text-anchor=\"middle\" x=\"885.75\" y=\"-40.45\" font-family=\"Times New Roman,serif\" font-size=\"14.00\">*</text>\n",
       "</g>\n",
       "<!-- 2496146346512*&#45;&gt;2496146346512 -->\n",
       "<g id=\"edge1\" class=\"edge\">\n",
       "<title>2496146346512*&#45;&gt;2496146346512</title>\n",
       "<path fill=\"none\" stroke=\"black\" d=\"M913.23,-45.5C920.36,-45.5 928.54,-45.5 937.27,-45.5\"/>\n",
       "<polygon fill=\"black\" stroke=\"black\" points=\"937.06,-49 947.06,-45.5 937.06,-42 937.06,-49\"/>\n",
       "</g>\n",
       "<!-- 2496146300944 -->\n",
       "<g id=\"node3\" class=\"node\">\n",
       "<title>2496146300944</title>\n",
       "<polygon fill=\"none\" stroke=\"black\" points=\"316.5,-83.5 316.5,-119.5 506.25,-119.5 506.25,-83.5 316.5,-83.5\"/>\n",
       "<text xml:space=\"preserve\" text-anchor=\"middle\" x=\"327.5\" y=\"-96.7\" font-family=\"Times New Roman,serif\" font-size=\"14.00\">e</text>\n",
       "<polyline fill=\"none\" stroke=\"black\" points=\"338.5,-84 338.5,-119.5\"/>\n",
       "<text xml:space=\"preserve\" text-anchor=\"middle\" x=\"381.75\" y=\"-96.7\" font-family=\"Times New Roman,serif\" font-size=\"14.00\">data 20.0000</text>\n",
       "<polyline fill=\"none\" stroke=\"black\" points=\"425,-84 425,-119.5\"/>\n",
       "<text xml:space=\"preserve\" text-anchor=\"middle\" x=\"465.62\" y=\"-96.7\" font-family=\"Times New Roman,serif\" font-size=\"14.00\">grad 0.0000</text>\n",
       "</g>\n",
       "<!-- 2496125446800+ -->\n",
       "<g id=\"node6\" class=\"node\">\n",
       "<title>2496125446800+</title>\n",
       "<ellipse fill=\"none\" stroke=\"black\" cx=\"569.25\" cy=\"-73.5\" rx=\"27\" ry=\"18\"/>\n",
       "<text xml:space=\"preserve\" text-anchor=\"middle\" x=\"569.25\" y=\"-68.45\" font-family=\"Times New Roman,serif\" font-size=\"14.00\">+</text>\n",
       "</g>\n",
       "<!-- 2496146300944&#45;&gt;2496125446800+ -->\n",
       "<g id=\"edge9\" class=\"edge\">\n",
       "<title>2496146300944&#45;&gt;2496125446800+</title>\n",
       "<path fill=\"none\" stroke=\"black\" d=\"M506.64,-84.57C515.41,-82.99 523.9,-81.47 531.62,-80.08\"/>\n",
       "<polygon fill=\"black\" stroke=\"black\" points=\"531.98,-83.57 541.2,-78.36 530.74,-76.68 531.98,-83.57\"/>\n",
       "</g>\n",
       "<!-- 2496146300944* -->\n",
       "<g id=\"node4\" class=\"node\">\n",
       "<title>2496146300944*</title>\n",
       "<ellipse fill=\"none\" stroke=\"black\" cx=\"253.5\" cy=\"-101.5\" rx=\"27\" ry=\"18\"/>\n",
       "<text xml:space=\"preserve\" text-anchor=\"middle\" x=\"253.5\" y=\"-96.45\" font-family=\"Times New Roman,serif\" font-size=\"14.00\">*</text>\n",
       "</g>\n",
       "<!-- 2496146300944*&#45;&gt;2496146300944 -->\n",
       "<g id=\"edge2\" class=\"edge\">\n",
       "<title>2496146300944*&#45;&gt;2496146300944</title>\n",
       "<path fill=\"none\" stroke=\"black\" d=\"M280.94,-101.5C288.09,-101.5 296.28,-101.5 304.99,-101.5\"/>\n",
       "<polygon fill=\"black\" stroke=\"black\" points=\"304.76,-105 314.76,-101.5 304.76,-98 304.76,-105\"/>\n",
       "</g>\n",
       "<!-- 2496125446800 -->\n",
       "<g id=\"node5\" class=\"node\">\n",
       "<title>2496125446800</title>\n",
       "<polygon fill=\"none\" stroke=\"black\" points=\"632.25,-55.5 632.25,-91.5 822.75,-91.5 822.75,-55.5 632.25,-55.5\"/>\n",
       "<text xml:space=\"preserve\" text-anchor=\"middle\" x=\"643.62\" y=\"-68.7\" font-family=\"Times New Roman,serif\" font-size=\"14.00\">d</text>\n",
       "<polyline fill=\"none\" stroke=\"black\" points=\"655,-56 655,-91.5\"/>\n",
       "<text xml:space=\"preserve\" text-anchor=\"middle\" x=\"698.25\" y=\"-68.7\" font-family=\"Times New Roman,serif\" font-size=\"14.00\">data 27.0000</text>\n",
       "<polyline fill=\"none\" stroke=\"black\" points=\"741.5,-56 741.5,-91.5\"/>\n",
       "<text xml:space=\"preserve\" text-anchor=\"middle\" x=\"782.12\" y=\"-68.7\" font-family=\"Times New Roman,serif\" font-size=\"14.00\">grad 0.0000</text>\n",
       "</g>\n",
       "<!-- 2496125446800&#45;&gt;2496146346512* -->\n",
       "<g id=\"edge4\" class=\"edge\">\n",
       "<title>2496125446800&#45;&gt;2496146346512*</title>\n",
       "<path fill=\"none\" stroke=\"black\" d=\"M823,-56.57C831.79,-54.99 840.29,-53.47 848.03,-52.08\"/>\n",
       "<polygon fill=\"black\" stroke=\"black\" points=\"848.41,-55.57 857.64,-50.36 847.18,-48.68 848.41,-55.57\"/>\n",
       "</g>\n",
       "<!-- 2496125446800+&#45;&gt;2496125446800 -->\n",
       "<g id=\"edge3\" class=\"edge\">\n",
       "<title>2496125446800+&#45;&gt;2496125446800</title>\n",
       "<path fill=\"none\" stroke=\"black\" d=\"M596.4,-73.5C603.55,-73.5 611.76,-73.5 620.5,-73.5\"/>\n",
       "<polygon fill=\"black\" stroke=\"black\" points=\"620.31,-77 630.31,-73.5 620.31,-70 620.31,-77\"/>\n",
       "</g>\n",
       "<!-- 2496146333328 -->\n",
       "<g id=\"node7\" class=\"node\">\n",
       "<title>2496146333328</title>\n",
       "<polygon fill=\"none\" stroke=\"black\" points=\"3.75,-111.5 3.75,-147.5 186.75,-147.5 186.75,-111.5 3.75,-111.5\"/>\n",
       "<text xml:space=\"preserve\" text-anchor=\"middle\" x=\"14.75\" y=\"-124.7\" font-family=\"Times New Roman,serif\" font-size=\"14.00\">a</text>\n",
       "<polyline fill=\"none\" stroke=\"black\" points=\"25.75,-112 25.75,-147.5\"/>\n",
       "<text xml:space=\"preserve\" text-anchor=\"middle\" x=\"65.62\" y=\"-124.7\" font-family=\"Times New Roman,serif\" font-size=\"14.00\">data 2.0000</text>\n",
       "<polyline fill=\"none\" stroke=\"black\" points=\"105.5,-112 105.5,-147.5\"/>\n",
       "<text xml:space=\"preserve\" text-anchor=\"middle\" x=\"146.12\" y=\"-124.7\" font-family=\"Times New Roman,serif\" font-size=\"14.00\">grad 0.0000</text>\n",
       "</g>\n",
       "<!-- 2496146333328&#45;&gt;2496146300944* -->\n",
       "<g id=\"edge6\" class=\"edge\">\n",
       "<title>2496146333328&#45;&gt;2496146300944*</title>\n",
       "<path fill=\"none\" stroke=\"black\" d=\"M187.14,-113.21C197.2,-111.41 206.98,-109.66 215.76,-108.08\"/>\n",
       "<polygon fill=\"black\" stroke=\"black\" points=\"216.36,-111.53 225.59,-106.32 215.12,-104.64 216.36,-111.53\"/>\n",
       "</g>\n",
       "<!-- 2496146333456 -->\n",
       "<g id=\"node8\" class=\"node\">\n",
       "<title>2496146333456</title>\n",
       "<polygon fill=\"none\" stroke=\"black\" points=\"319.88,-28.5 319.88,-64.5 502.88,-64.5 502.88,-28.5 319.88,-28.5\"/>\n",
       "<text xml:space=\"preserve\" text-anchor=\"middle\" x=\"330.88\" y=\"-41.7\" font-family=\"Times New Roman,serif\" font-size=\"14.00\">c</text>\n",
       "<polyline fill=\"none\" stroke=\"black\" points=\"341.88,-29 341.88,-64.5\"/>\n",
       "<text xml:space=\"preserve\" text-anchor=\"middle\" x=\"381.75\" y=\"-41.7\" font-family=\"Times New Roman,serif\" font-size=\"14.00\">data 7.0000</text>\n",
       "<polyline fill=\"none\" stroke=\"black\" points=\"421.62,-29 421.62,-64.5\"/>\n",
       "<text xml:space=\"preserve\" text-anchor=\"middle\" x=\"462.25\" y=\"-41.7\" font-family=\"Times New Roman,serif\" font-size=\"14.00\">grad 0.0000</text>\n",
       "</g>\n",
       "<!-- 2496146333456&#45;&gt;2496125446800+ -->\n",
       "<g id=\"edge7\" class=\"edge\">\n",
       "<title>2496146333456&#45;&gt;2496125446800+</title>\n",
       "<path fill=\"none\" stroke=\"black\" d=\"M503.05,-62.21C512.99,-63.93 522.66,-65.6 531.36,-67.11\"/>\n",
       "<polygon fill=\"black\" stroke=\"black\" points=\"530.63,-70.54 541.08,-68.79 531.83,-63.64 530.63,-70.54\"/>\n",
       "</g>\n",
       "<!-- 2496146129808 -->\n",
       "<g id=\"node9\" class=\"node\">\n",
       "<title>2496146129808</title>\n",
       "<polygon fill=\"none\" stroke=\"black\" points=\"0,-56.5 0,-92.5 190.5,-92.5 190.5,-56.5 0,-56.5\"/>\n",
       "<text xml:space=\"preserve\" text-anchor=\"middle\" x=\"11.38\" y=\"-69.7\" font-family=\"Times New Roman,serif\" font-size=\"14.00\">b</text>\n",
       "<polyline fill=\"none\" stroke=\"black\" points=\"22.75,-57 22.75,-92.5\"/>\n",
       "<text xml:space=\"preserve\" text-anchor=\"middle\" x=\"66\" y=\"-69.7\" font-family=\"Times New Roman,serif\" font-size=\"14.00\">data 10.0000</text>\n",
       "<polyline fill=\"none\" stroke=\"black\" points=\"109.25,-57 109.25,-92.5\"/>\n",
       "<text xml:space=\"preserve\" text-anchor=\"middle\" x=\"149.88\" y=\"-69.7\" font-family=\"Times New Roman,serif\" font-size=\"14.00\">grad 0.0000</text>\n",
       "</g>\n",
       "<!-- 2496146129808&#45;&gt;2496146300944* -->\n",
       "<g id=\"edge8\" class=\"edge\">\n",
       "<title>2496146129808&#45;&gt;2496146300944*</title>\n",
       "<path fill=\"none\" stroke=\"black\" d=\"M190.75,-90.83C199.54,-92.35 208.04,-93.82 215.78,-95.15\"/>\n",
       "<polygon fill=\"black\" stroke=\"black\" points=\"214.94,-98.56 225.39,-96.81 216.13,-91.66 214.94,-98.56\"/>\n",
       "</g>\n",
       "<!-- 2496146333648 -->\n",
       "<g id=\"node10\" class=\"node\">\n",
       "<title>2496146333648</title>\n",
       "<polygon fill=\"none\" stroke=\"black\" points=\"636.75,-0.5 636.75,-36.5 818.25,-36.5 818.25,-0.5 636.75,-0.5\"/>\n",
       "<text xml:space=\"preserve\" text-anchor=\"middle\" x=\"647\" y=\"-13.7\" font-family=\"Times New Roman,serif\" font-size=\"14.00\">f</text>\n",
       "<polyline fill=\"none\" stroke=\"black\" points=\"657.25,-1 657.25,-36.5\"/>\n",
       "<text xml:space=\"preserve\" text-anchor=\"middle\" x=\"697.12\" y=\"-13.7\" font-family=\"Times New Roman,serif\" font-size=\"14.00\">data 4.0000</text>\n",
       "<polyline fill=\"none\" stroke=\"black\" points=\"737,-1 737,-36.5\"/>\n",
       "<text xml:space=\"preserve\" text-anchor=\"middle\" x=\"777.62\" y=\"-13.7\" font-family=\"Times New Roman,serif\" font-size=\"14.00\">grad 0.0000</text>\n",
       "</g>\n",
       "<!-- 2496146333648&#45;&gt;2496146346512* -->\n",
       "<g id=\"edge5\" class=\"edge\">\n",
       "<title>2496146333648&#45;&gt;2496146346512*</title>\n",
       "<path fill=\"none\" stroke=\"black\" d=\"M818.49,-34.05C828.86,-35.84 838.95,-37.59 848,-39.15\"/>\n",
       "<polygon fill=\"black\" stroke=\"black\" points=\"847.3,-42.58 857.75,-40.83 848.49,-35.68 847.3,-42.58\"/>\n",
       "</g>\n",
       "</g>\n",
       "</svg>\n"
      ],
      "text/plain": [
       "<graphviz.graphs.Digraph at 0x2452e21bd10>"
      ]
     },
     "execution_count": 19,
     "metadata": {},
     "output_type": "execute_result"
    }
   ],
   "source": [
    "draw_dot(L)"
   ]
  },
  {
   "cell_type": "code",
   "execution_count": null,
   "id": "6c06a66d-0058-4884-af0b-ad066d7c06ff",
   "metadata": {},
   "outputs": [],
   "source": []
  },
  {
   "cell_type": "code",
   "execution_count": null,
   "id": "172e3450-2a64-45d2-af41-082c0d38ce0c",
   "metadata": {},
   "outputs": [],
   "source": []
  },
  {
   "cell_type": "code",
   "execution_count": null,
   "id": "41b6992d-ea3c-4197-9464-97d315eaacd4",
   "metadata": {},
   "outputs": [],
   "source": []
  },
  {
   "cell_type": "code",
   "execution_count": null,
   "id": "27f709df-5e6b-4623-b39b-9147c9fd70bd",
   "metadata": {},
   "outputs": [],
   "source": []
  },
  {
   "cell_type": "code",
   "execution_count": null,
   "id": "673a7d77-b54d-4336-9534-e023b465fc71",
   "metadata": {},
   "outputs": [],
   "source": []
  },
  {
   "cell_type": "code",
   "execution_count": null,
   "id": "8c6fe8ea-91d6-4a58-aa3c-b84a98827fb2",
   "metadata": {},
   "outputs": [],
   "source": []
  },
  {
   "cell_type": "code",
   "execution_count": null,
   "id": "f72dfb1e-f345-43d4-84c5-bec4738fe27c",
   "metadata": {},
   "outputs": [],
   "source": []
  },
  {
   "cell_type": "code",
   "execution_count": null,
   "id": "06fc9b1d-1b7c-41bc-8243-8da55ceafb1e",
   "metadata": {},
   "outputs": [],
   "source": []
  }
 ],
 "metadata": {
  "kernelspec": {
   "display_name": "Python (image-proc)",
   "language": "python",
   "name": "image-proc"
  },
  "language_info": {
   "codemirror_mode": {
    "name": "ipython",
    "version": 3
   },
   "file_extension": ".py",
   "mimetype": "text/x-python",
   "name": "python",
   "nbconvert_exporter": "python",
   "pygments_lexer": "ipython3",
   "version": "3.11.13"
  }
 },
 "nbformat": 4,
 "nbformat_minor": 5
}
